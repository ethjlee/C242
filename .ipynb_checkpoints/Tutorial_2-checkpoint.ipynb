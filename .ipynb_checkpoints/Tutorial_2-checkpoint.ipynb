{
 "cells": [
  {
   "cell_type": "markdown",
   "metadata": {},
   "source": [
    "# Tutorial 2\n",
    "\n",
    "## Outline\n",
    "\n",
    "* Simulated Annealing (for HW#2)\n",
    "* Pandas\n",
    "* Numba\n"
   ]
  },
  {
   "cell_type": "markdown",
   "metadata": {},
   "source": [
    "## Simulated Annealing"
   ]
  },
  {
   "cell_type": "code",
   "execution_count": null,
   "metadata": {},
   "outputs": [],
   "source": [
    "import numpy as np\n",
    "import matplotlib.pyplot as plt\n",
    "\n",
    "\n",
    "def Camel(X):\n",
    "    x, y = X\n",
    "    return 2 * x**2 - 1.05 * x**4 + x**6 / 6 + x * y + y**2\n",
    "\n",
    "def plot_surface(func, x_min=-2, x_max=2, y_min=-2, y_max=2):\n",
    "    a = np.linspace(x_min, x_max, 100)\n",
    "    b = np.linspace(y_min, y_max, 100)\n",
    "    x,y = np.meshgrid(a, b)\n",
    "    z = func((x, y))\n",
    "    fig = plt.figure()\n",
    "    ax = fig.add_subplot(projection='3d')\n",
    "    ax.plot_surface(x, y, z)\n",
    "\n",
    "plot_surface(Camel)"
   ]
  },
  {
   "cell_type": "markdown",
   "metadata": {},
   "source": [
    "<img src=\"SA.svg\" />"
   ]
  },
  {
   "cell_type": "markdown",
   "metadata": {},
   "source": [
    "+ Random Displacement:\n",
    "\n",
    "$$X_{i+1} = X_i + \\Delta * (2 * \\mathrm{URN} -1)$$\n",
    "\n",
    "+ Metropolis Rule:\n",
    "\n",
    "$$P(\\mathrm{accept})=\\exp\\left(-\\frac{\\Delta E}{T}\\right)$$"
   ]
  },
  {
   "cell_type": "code",
   "execution_count": null,
   "metadata": {},
   "outputs": [],
   "source": [
    "def SA(solution, func, schedule, delta, boundary, n_iter, report_interval=None):\n",
    "    \"\"\" \n",
    "    Simulated Annealing for minimization\n",
    "    \n",
    "    Parameters\n",
    "    ----------\n",
    "    solution: np.ndarray\n",
    "        Initial guess\n",
    "    func: Callable\n",
    "        Function to minimize\n",
    "    schedule: np.ndarray\n",
    "        An array of temperatures for simulated annealing\n",
    "    delta: float\n",
    "        Magnitude of random displacement\n",
    "    boundary: tuple\n",
    "        Boundary of the variables to minimize. (lowerbound,upperbound)\n",
    "    n_iter: int\n",
    "        Number of random displacement move in each temperature\n",
    "    report_interavl: int\n",
    "        Number of temperature steps to report result\n",
    "    \n",
    "    Returns\n",
    "    -------\n",
    "    res: dict\n",
    "        Minimized point and its evaulation value\n",
    "    \"\"\"\n",
    "    \n",
    "    best_solution = solution.copy()\n",
    "    lowest_eval = func(best_solution)\n",
    "    \n",
    "    for idx, temp in enumerate(schedule):\n",
    "        if report_interval is not None and ((idx + 1) % report_interval == 0 or idx == 0):\n",
    "            msg = (\n",
    "                f\"{idx + 1}/{len(schedule)}, Temp: {temp:.2f}, \"\n",
    "                f\"Best solution: {best_solution}, Value: {lowest_eval:.7f}\"\n",
    "            )\n",
    "            print(msg)\n",
    "        \n",
    "        for n in range(n_iter):\n",
    "            trial = solution.copy()\n",
    "            trial += ...\n",
    "            if np.all(trial >= boundary[0]) and np.all(trial <= boundary[1]):\n",
    "                # fill in acceptance criterion\n",
    "                if ...:\n",
    "                    solution = trial\n",
    "                    if func(solution) < lowest_eval:\n",
    "                        # update solution here\n",
    "                        best_solution = solution.copy()\n",
    "                        lowest_eval = func(best_solution)\n",
    "                        \n",
    "    return {\"solution\":best_solution, \"evaluation\":lowest_eval}"
   ]
  },
  {
   "cell_type": "markdown",
   "metadata": {},
   "source": [
    "Try linear cooling"
   ]
  },
  {
   "cell_type": "code",
   "execution_count": null,
   "metadata": {},
   "outputs": [],
   "source": [
    "linear_cooling = np.linspace(3000, 50, 1000)"
   ]
  },
  {
   "cell_type": "code",
   "execution_count": null,
   "metadata": {
    "scrolled": false
   },
   "outputs": [],
   "source": [
    "# Start from a point which is close to local minimum\n",
    "starting_point = np.array([-1.7, 0.7])\n",
    "SA(starting_point, Camel, linear_cooling, 0.1, (-2, 2), 5, 100)"
   ]
  },
  {
   "cell_type": "code",
   "execution_count": null,
   "metadata": {},
   "outputs": [],
   "source": [
    "# Local minimization methods fail to find the global minimum\n",
    "from scipy.optimize import minimize\n",
    "\n",
    "minimize(Camel, starting_point, method=\"BFGS\")"
   ]
  },
  {
   "cell_type": "markdown",
   "metadata": {},
   "source": [
    "## Pandas"
   ]
  },
  {
   "cell_type": "markdown",
   "metadata": {},
   "source": [
    "+ [Documentation](https://pandas.pydata.org/docs/)"
   ]
  },
  {
   "cell_type": "code",
   "execution_count": null,
   "metadata": {},
   "outputs": [],
   "source": [
    "import pandas as pd"
   ]
  },
  {
   "cell_type": "markdown",
   "metadata": {},
   "source": [
    "### Read CSV file"
   ]
  },
  {
   "cell_type": "code",
   "execution_count": null,
   "metadata": {},
   "outputs": [],
   "source": [
    "df = pd.read_csv(\"../../Datasets/titanic.csv\")\n",
    "print(type(df))\n",
    "df"
   ]
  },
  {
   "cell_type": "code",
   "execution_count": null,
   "metadata": {},
   "outputs": [],
   "source": [
    "df.head()"
   ]
  },
  {
   "cell_type": "code",
   "execution_count": null,
   "metadata": {},
   "outputs": [],
   "source": [
    "df.tail()"
   ]
  },
  {
   "cell_type": "markdown",
   "metadata": {},
   "source": [
    "### Drop columns"
   ]
  },
  {
   "cell_type": "code",
   "execution_count": null,
   "metadata": {
    "scrolled": false
   },
   "outputs": [],
   "source": [
    "df2 = df.drop(['Cabin'], axis=1)"
   ]
  },
  {
   "cell_type": "markdown",
   "metadata": {},
   "source": [
    "### Drop NaN values"
   ]
  },
  {
   "cell_type": "markdown",
   "metadata": {},
   "source": [
    "Drop the rows where at least one element is missing"
   ]
  },
  {
   "cell_type": "code",
   "execution_count": null,
   "metadata": {},
   "outputs": [],
   "source": [
    "df.dropna()"
   ]
  },
  {
   "cell_type": "markdown",
   "metadata": {},
   "source": [
    "Drop the columns where at least one element is missing."
   ]
  },
  {
   "cell_type": "code",
   "execution_count": null,
   "metadata": {},
   "outputs": [],
   "source": [
    "df.dropna(axis=1) # or axis='columns'"
   ]
  },
  {
   "cell_type": "markdown",
   "metadata": {},
   "source": [
    "Define in which columns to look for missing values."
   ]
  },
  {
   "cell_type": "code",
   "execution_count": null,
   "metadata": {},
   "outputs": [],
   "source": [
    "df.dropna(subset=['Age'])"
   ]
  },
  {
   "cell_type": "markdown",
   "metadata": {},
   "source": [
    "### Indexing"
   ]
  },
  {
   "cell_type": "code",
   "execution_count": null,
   "metadata": {},
   "outputs": [],
   "source": [
    "df.loc[0, \"Pclass\"]"
   ]
  },
  {
   "cell_type": "code",
   "execution_count": null,
   "metadata": {},
   "outputs": [],
   "source": [
    "df.iloc[0, 2]"
   ]
  },
  {
   "cell_type": "code",
   "execution_count": null,
   "metadata": {
    "scrolled": false
   },
   "outputs": [],
   "source": [
    "df[['Pclass', 'Survived']]"
   ]
  },
  {
   "cell_type": "code",
   "execution_count": null,
   "metadata": {},
   "outputs": [],
   "source": [
    "df[df['Survived'] == 1]"
   ]
  },
  {
   "cell_type": "markdown",
   "metadata": {},
   "source": [
    "### Other useful methods"
   ]
  },
  {
   "cell_type": "markdown",
   "metadata": {},
   "source": [
    "Use `.values` attribute to get values in numpy.ndarray"
   ]
  },
  {
   "cell_type": "code",
   "execution_count": null,
   "metadata": {
    "scrolled": false
   },
   "outputs": [],
   "source": [
    "df.values"
   ]
  },
  {
   "cell_type": "markdown",
   "metadata": {},
   "source": [
    "Use `describe()` method to get statistics"
   ]
  },
  {
   "cell_type": "code",
   "execution_count": null,
   "metadata": {},
   "outputs": [],
   "source": [
    "df.describe()"
   ]
  },
  {
   "cell_type": "markdown",
   "metadata": {},
   "source": [
    "Use `.index` or `.columns` get index/columns"
   ]
  },
  {
   "cell_type": "code",
   "execution_count": null,
   "metadata": {},
   "outputs": [],
   "source": [
    "df.index"
   ]
  },
  {
   "cell_type": "code",
   "execution_count": null,
   "metadata": {},
   "outputs": [],
   "source": [
    "df.columns"
   ]
  },
  {
   "cell_type": "markdown",
   "metadata": {},
   "source": [
    "Use `to_csv()` to export DataFrame"
   ]
  },
  {
   "cell_type": "code",
   "execution_count": null,
   "metadata": {},
   "outputs": [],
   "source": [
    "df.to_csv(\"test_export.csv\")"
   ]
  },
  {
   "cell_type": "markdown",
   "metadata": {},
   "source": [
    "Use `sort_values()` method to sort the DataFrame according to values in one column."
   ]
  },
  {
   "cell_type": "code",
   "execution_count": null,
   "metadata": {},
   "outputs": [],
   "source": [
    "df.sort_values(by=[\"Age\"], ascending=False)"
   ]
  },
  {
   "cell_type": "markdown",
   "metadata": {},
   "source": [
    "## Numba"
   ]
  },
  {
   "cell_type": "markdown",
   "metadata": {},
   "source": [
    "Use `pip install numba` or `conda install numba -c conda-forge` to install numba package.\n",
    "\n",
    "Numba is a package that help users to accelerate the code."
   ]
  },
  {
   "cell_type": "code",
   "execution_count": null,
   "metadata": {},
   "outputs": [],
   "source": [
    "import numba"
   ]
  },
  {
   "cell_type": "code",
   "execution_count": null,
   "metadata": {},
   "outputs": [],
   "source": [
    "def test():\n",
    "    i = 0\n",
    "    for a in range(100000):\n",
    "        i += a\n",
    "    return i\n",
    "\n",
    "%timeit test()"
   ]
  },
  {
   "cell_type": "code",
   "execution_count": null,
   "metadata": {},
   "outputs": [],
   "source": [
    "...\n",
    "def test():\n",
    "    i = 0\n",
    "    for a in range(100000):\n",
    "        i += a\n",
    "    return i\n",
    "\n",
    "%timeit test()"
   ]
  }
 ],
 "metadata": {
  "anaconda-cloud": {},
  "kernelspec": {
   "display_name": "c142",
   "language": "python",
   "name": "c142"
  },
  "language_info": {
   "codemirror_mode": {
    "name": "ipython",
    "version": 3
   },
   "file_extension": ".py",
   "mimetype": "text/x-python",
   "name": "python",
   "nbconvert_exporter": "python",
   "pygments_lexer": "ipython3",
   "version": "3.8.18"
  }
 },
 "nbformat": 4,
 "nbformat_minor": 4
}
