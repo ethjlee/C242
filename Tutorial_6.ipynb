{
 "cells": [
  {
   "cell_type": "markdown",
   "id": "7243a660",
   "metadata": {},
   "source": [
    "# Tutorial 6\n",
    "\n",
    "## Outline\n",
    "\n",
    "+ Principal Component Analysis (PCA) in sklearn\n",
    "+ Dropout and L2 regularization in PyTorch\n",
    "+ Dataset and DataLoader in PyTorch"
   ]
  },
  {
   "cell_type": "markdown",
   "id": "fb113835",
   "metadata": {},
   "source": [
    "## MNIST Dataset"
   ]
  },
  {
   "cell_type": "code",
   "execution_count": 18,
   "id": "0bbfb31d",
   "metadata": {
    "scrolled": true
   },
   "outputs": [
    {
     "name": "stdout",
     "output_type": "stream",
     "text": [
      "X_train shape: torch.Size([60000, 32, 32])\n",
      "X_test shape: torch.Size([10000, 32, 32])\n",
      "y_train shape: torch.Size([60000])\n",
      "y_test shape: torch.Size([10000])\n"
     ]
    }
   ],
   "source": [
    "import pickle\n",
    "import torch\n",
    "\n",
    "def load_dataset(path):\n",
    "    with open(path, 'rb') as f:\n",
    "        train_data, test_data = pickle.load(f)\n",
    "    \n",
    "    X_train = torch.tensor(train_data[0], dtype=torch.float)\n",
    "    y_train = torch.tensor(train_data[1], dtype=torch.long)\n",
    "    X_test = torch.tensor(test_data[0], dtype=torch.float)\n",
    "    y_test = torch.tensor(test_data[1], dtype=torch.long)\n",
    "    return X_train, y_train, X_test, y_test\n",
    "\n",
    "X_train, y_train, X_test, y_test = load_dataset(\"Datasets/mnist.pkl\")\n",
    "print(\"X_train shape:\", X_train.shape)\n",
    "print(\"X_test shape:\", X_test.shape)\n",
    "print(\"y_train shape:\", y_train.shape)\n",
    "print(\"y_test shape:\", y_test.shape)"
   ]
  },
  {
   "cell_type": "code",
   "execution_count": 19,
   "id": "edad3a8a",
   "metadata": {
    "scrolled": true
   },
   "outputs": [
    {
     "data": {
      "image/png": "[encoded data removed]",
      "text/plain": [
       "<Figure size 500x500 with 9 Axes>"
      ]
     },
     "metadata": {},
     "output_type": "display_data"
    }
   ],
   "source": [
    "import matplotlib.pyplot as plt\n",
    "\n",
    "fig, axes = plt.subplots(3, 3, figsize=(5, 5))\n",
    "for i, ax in enumerate(axes.flatten()):\n",
    "    ax.imshow(X_train[i], cmap='gray')"
   ]
  },
  {
   "cell_type": "markdown",
   "id": "68eb96e8",
   "metadata": {},
   "source": [
    "## Principal Component Analysis (PCA)"
   ]
  },
  {
   "cell_type": "code",
   "execution_count": 20,
   "id": "f6661997",
   "metadata": {
    "scrolled": true
   },
   "outputs": [
    {
     "name": "stdout",
     "output_type": "stream",
     "text": [
      "torch.Size([60000, 1024])\n"
     ]
    }
   ],
   "source": [
    "# Flatten the inputs & normalization\n",
    "X_train = X_train.reshape(X_train.shape[0], -1) / torch.max(X_train)\n",
    "X_test = X_test.reshape(X_test.shape[0], -1) / torch.max(X_test)\n",
    "print(X_train.shape)"
   ]
  },
  {
   "cell_type": "code",
   "execution_count": 21,
   "id": "79e56358",
   "metadata": {
    "scrolled": true
   },
   "outputs": [
    {
     "name": "stdout",
     "output_type": "stream",
     "text": [
      "(60000, 256) (10000, 256)\n"
     ]
    }
   ],
   "source": [
    "from sklearn.decomposition import PCA\n",
    "\n",
    "# keeping specific number of features\n",
    "pca = PCA(n_components=256)\n",
    "# fit\n",
    "pca.fit(X_train)\n",
    "# transform\n",
    "X_train_pca = pca.transform(X_train)\n",
    "X_test_pca = pca.transform(X_test)\n",
    "print(X_train_pca.shape, X_test_pca.shape)"
   ]
  },
  {
   "cell_type": "code",
   "execution_count": 36,
   "id": "621bb401",
   "metadata": {
    "scrolled": true
   },
   "outputs": [
    {
     "name": "stdout",
     "output_type": "stream",
     "text": [
      "torch.Size([60000, 331]) torch.Size([10000, 331])\n"
     ]
    }
   ],
   "source": [
    "# keeping amount of variance\n",
    "pca = PCA(n_components=0.99)\n",
    "# fit\n",
    "pca.fit(X_train)\n",
    "# transform\n",
    "X_train_pca = torch.tensor(pca.transform(X_train), dtype=torch.float)\n",
    "X_test_pca = torch.tensor(pca.transform(X_test), dtype=torch.float)\n",
    "print(X_train_pca.shape, X_test_pca.shape)"
   ]
  },
  {
   "cell_type": "code",
   "execution_count": 41,
   "id": "9ada165c",
   "metadata": {
    "scrolled": true
   },
   "outputs": [
    {
     "data": {
      "text/plain": [
       "0.9900129424929288"
      ]
     },
     "execution_count": 41,
     "metadata": {},
     "output_type": "execute_result"
    }
   ],
   "source": [
    "sum(pca.explained_variance_ratio_)"
   ]
  },
  {
   "cell_type": "markdown",
   "id": "32ef91cc",
   "metadata": {},
   "source": [
    "## Dropout & L2"
   ]
  },
  {
   "cell_type": "markdown",
   "id": "376715d1",
   "metadata": {},
   "source": [
    "Use `nn.Dropout` layer:\n",
    "\n",
    "During training, randomly zeroes some of the elements of the input tensor with probability p."
   ]
  },
  {
   "cell_type": "code",
   "execution_count": 42,
   "id": "f12c1f44",
   "metadata": {
    "scrolled": true
   },
   "outputs": [],
   "source": [
    "import torch.nn as nn\n",
    "\n",
    "\n",
    "class NetDropout(nn.Module):\n",
    "    def __init__(self):\n",
    "        super().__init__()\n",
    "        self.layers = nn.Sequential(\n",
    "            nn.Linear(331, 100),\n",
    "            nn.Dropout(p=0.1),\n",
    "            nn.Sigmoid(),\n",
    "            nn.Linear(100, 10),\n",
    "            nn.Dropout(p=0.1),\n",
    "            nn.Sigmoid()\n",
    "        )\n",
    "    \n",
    "    def forward(self, x):\n",
    "        return self.layers(x)\n",
    "\n"
   ]
  },
  {
   "cell_type": "markdown",
   "id": "19f1f1aa",
   "metadata": {},
   "source": [
    "Set `weight_decay` to use L2 regularization.\n",
    "\n",
    "$$\\mathrm{Loss\\_L2} = \\mathrm{Loss} + \\lambda\\sum\\theta_i^2 $$"
   ]
  },
  {
   "cell_type": "code",
   "execution_count": 43,
   "id": "48b175ce",
   "metadata": {
    "scrolled": true
   },
   "outputs": [],
   "source": [
    "model = NetDropout()\n",
    "optimizer = torch.optim.Adam(model.parameters(), 1e-3, weight_decay=1e-5)"
   ]
  },
  {
   "cell_type": "markdown",
   "id": "5a0ca0dc",
   "metadata": {},
   "source": [
    "## Dataset & DataLoader"
   ]
  },
  {
   "cell_type": "code",
   "execution_count": 44,
   "id": "38369642",
   "metadata": {
    "scrolled": true
   },
   "outputs": [],
   "source": [
    "from torch.utils.data import Dataset, DataLoader\n",
    "\n",
    "\n",
    "class MnistDataset(Dataset):\n",
    "    def __init__(self, X, y):\n",
    "        self.X = X\n",
    "        self.y = y\n",
    "        \n",
    "    def __len__(self):\n",
    "        return len(self.y)\n",
    "    \n",
    "    def __getitem__(self, idx):\n",
    "        return self.X[idx], self.y[idx]\n",
    "\n",
    "train_data = MnistDataset(X_train, y_train)\n",
    "test_data = MnistDataset(X_test, y_test)"
   ]
  },
  {
   "cell_type": "code",
   "execution_count": 45,
   "id": "6afe7537",
   "metadata": {},
   "outputs": [
    {
     "data": {
      "text/plain": [
       "60000"
      ]
     },
     "execution_count": 45,
     "metadata": {},
     "output_type": "execute_result"
    }
   ],
   "source": [
    "len(train_data)"
   ]
  },
  {
   "cell_type": "code",
   "execution_count": 46,
   "id": "5648ae92",
   "metadata": {
    "scrolled": true
   },
   "outputs": [],
   "source": [
    "train_data = MnistDataset(X_train_pca, y_train)\n",
    "test_data = MnistDataset(X_test_pca, y_test)\n",
    "train_loader = DataLoader(train_data, batch_size=128, shuffle=True)\n",
    "test_loader = DataLoader(test_data, batch_size=128, shuffle=True)"
   ]
  },
  {
   "cell_type": "code",
   "execution_count": 47,
   "id": "281f0b5e",
   "metadata": {
    "scrolled": true
   },
   "outputs": [
    {
     "name": "stdout",
     "output_type": "stream",
     "text": [
      "torch.Size([128, 331]) torch.Size([128])\n"
     ]
    }
   ],
   "source": [
    "for X_batch, y_batch in train_loader:\n",
    "    print(X_batch.shape, y_batch.shape)\n",
    "    break"
   ]
  },
  {
   "cell_type": "markdown",
   "id": "32e9c916",
   "metadata": {},
   "source": [
    "## Trainer"
   ]
  },
  {
   "cell_type": "code",
   "execution_count": 48,
   "id": "d519a885",
   "metadata": {
    "scrolled": true
   },
   "outputs": [],
   "source": [
    "import numpy as np\n",
    "from tqdm import tqdm\n",
    "class Trainer:\n",
    "    \n",
    "    def __init__(self, model, opt_method, learning_rate, batch_size, epoch, l2):\n",
    "        self.model = model\n",
    "        \n",
    "        if opt_method == \"adam\":\n",
    "            self.optimizer = torch.optim.Adam(model.parameters(), learning_rate, weight_decay=l2)\n",
    "        else:\n",
    "            raise NotImplementedError(\"This optimization is not supported\")\n",
    "        \n",
    "        self.epoch = epoch\n",
    "        self.batch_size = batch_size\n",
    "    \n",
    "    def train(self, train_data, val_data, early_stop=True, verbose=True, draw_curve=True):\n",
    "        train_loader = DataLoader(train_data, batch_size=self.batch_size, shuffle=True)\n",
    "        \n",
    "        train_loss_list, train_acc_list = [], []\n",
    "        val_loss_list, val_acc_list = [], []\n",
    "        weights = self.model.state_dict()\n",
    "        lowest_val_loss = np.inf\n",
    "        loss_func = nn.CrossEntropyLoss()\n",
    "        for n in tqdm(range(self.epoch), leave=False):\n",
    "            # enable train mode\n",
    "            self.model.train()\n",
    "            epoch_loss, epoch_acc = 0.0, 0.0\n",
    "            for X_batch, y_batch in train_loader:\n",
    "                # batch_importance is the ratio of batch_size \n",
    "                batch_importance = y_batch.shape[0] / len(train_data)\n",
    "                y_pred = self.model(X_batch)\n",
    "                batch_loss = loss_func(y_pred, y_batch)\n",
    "                \n",
    "                self.optimizer.zero_grad()\n",
    "                batch_loss.backward()\n",
    "                self.optimizer.step()\n",
    "                \n",
    "                epoch_loss += batch_loss.detach().cpu().item() * batch_importance\n",
    "                batch_acc = torch.sum(torch.argmax(y_pred, axis=1) == y_batch) / y_batch.shape[0]\n",
    "                epoch_acc += batch_acc.detach().cpu().item() * batch_importance\n",
    "            train_loss_list.append(epoch_loss)\n",
    "            train_acc_list.append(epoch_acc)\n",
    "            val_loss, val_acc = self.evaluate(val_data)\n",
    "            val_loss_list.append(val_loss)\n",
    "            val_acc_list.append(val_acc)\n",
    "            \n",
    "            if early_stop:\n",
    "                if val_loss < lowest_val_loss:\n",
    "                    lowest_val_loss = val_loss\n",
    "                    weights = self.model.state_dict()\n",
    "            \n",
    "        if draw_curve:\n",
    "            x_axis = np.arange(self.epoch)\n",
    "            fig, axes = plt.subplots(1, 2, figsize=(10, 4))\n",
    "            axes[0].plot(x_axis, train_loss_list, label=\"Train\")\n",
    "            axes[0].plot(x_axis, val_loss_list, label=\"Validation\")\n",
    "            axes[0].set_title(\"Loss\")\n",
    "            axes[0].legend()\n",
    "            axes[1].plot(x_axis, train_acc_list, label='Train')\n",
    "            axes[1].plot(x_axis, val_acc_list, label='Validation')\n",
    "            axes[1].set_title(\"Accuracy\")\n",
    "            axes[1].legend()\n",
    "        \n",
    "        if early_stop:\n",
    "            self.model.load_state_dict(weights)\n",
    "        \n",
    "        return {\n",
    "            \"train_loss_list\": train_loss_list,\n",
    "            \"train_acc_list\": train_acc_list,\n",
    "            \"val_loss_list\": val_loss_list,\n",
    "            \"val_acc_list\": val_acc_list,\n",
    "        }\n",
    "    \n",
    "    def evaluate(self, data, print_acc=False):\n",
    "        # enable evaluation mode\n",
    "        self.model.eval()\n",
    "        loader = DataLoader(data, batch_size=self.batch_size, shuffle=True)\n",
    "        loss_func = nn.CrossEntropyLoss()\n",
    "        acc, loss = 0.0, 0.0\n",
    "        for X_batch, y_batch in loader:\n",
    "            with torch.no_grad():\n",
    "                batch_importance = y_batch.shape[0] / len(data)\n",
    "                y_pred = self.model(X_batch)\n",
    "                batch_loss = loss_func(y_pred, y_batch)\n",
    "                batch_acc = torch.sum(torch.argmax(y_pred, axis=1) == y_batch) / y_batch.shape[0]\n",
    "                acc += batch_acc.detach().cpu().item() * batch_importance\n",
    "                loss += batch_loss.detach().cpu().item() * batch_importance\n",
    "        if print_acc:\n",
    "            print(f\"Accuracy: {acc:.3f}\")\n",
    "        return loss, acc\n",
    "            \n",
    "            "
   ]
  },
  {
   "cell_type": "code",
   "execution_count": 50,
   "id": "61996e20",
   "metadata": {},
   "outputs": [
    {
     "name": "stderr",
     "output_type": "stream",
     "text": [
      "                                               \r"
     ]
    },
    {
     "data": {
      "text/plain": [
       "{'train_loss_list': [1.953854073270164,\n",
       "  1.6976252922058113,\n",
       "  1.6583766642888382,\n",
       "  1.6410647208531701,\n",
       "  1.6318049741109202,\n",
       "  1.6242043141682927,\n",
       "  1.6194607844034818,\n",
       "  1.6155706138610821,\n",
       "  1.613178472391765,\n",
       "  1.6106192827224728,\n",
       "  1.6074101020812999,\n",
       "  1.6059594261805212,\n",
       "  1.603333020528158,\n",
       "  1.6019683596293128,\n",
       "  1.6007484980901092,\n",
       "  1.5991668181737277,\n",
       "  1.5979803078333548,\n",
       "  1.5969474837621058,\n",
       "  1.5956249532063802,\n",
       "  1.5944269642511997,\n",
       "  1.5939445273717245,\n",
       "  1.5921851320266711,\n",
       "  1.593940658060709,\n",
       "  1.5914958676656084,\n",
       "  1.5908963903427127,\n",
       "  1.5906592164993283,\n",
       "  1.5900011643091834,\n",
       "  1.5890466676712023,\n",
       "  1.5878049591700247,\n",
       "  1.5873095454533899,\n",
       "  1.5869221786499044,\n",
       "  1.5855643744786592,\n",
       "  1.5850921821594237,\n",
       "  1.58522227935791,\n",
       "  1.585398869132996,\n",
       "  1.5846959139506027,\n",
       "  1.585231760724385,\n",
       "  1.584027119445801,\n",
       "  1.5828676795323695,\n",
       "  1.582756776682535,\n",
       "  1.5826043802261356,\n",
       "  1.5817362233479813,\n",
       "  1.580856419881184,\n",
       "  1.5816309234619157,\n",
       "  1.5814246044794726,\n",
       "  1.579927519289651,\n",
       "  1.580421921793621,\n",
       "  1.5800342045466114,\n",
       "  1.5798836651484163,\n",
       "  1.5803612693786613],\n",
       " 'train_acc_list': [0.7178666666666695,\n",
       "  0.8538666666984613,\n",
       "  0.8685166666348825,\n",
       "  0.8769833333651273,\n",
       "  0.8829000000317938,\n",
       "  0.8880333333333376,\n",
       "  0.89161666669846,\n",
       "  0.8939333333333375,\n",
       "  0.8959999999682149,\n",
       "  0.8986666666984596,\n",
       "  0.9021166666666701,\n",
       "  0.90416666666667,\n",
       "  0.9052333333651258,\n",
       "  0.9068999999682139,\n",
       "  0.9098166666984588,\n",
       "  0.9095166666666695,\n",
       "  0.9115333333651253,\n",
       "  0.9121166666348802,\n",
       "  0.9141000000000027,\n",
       "  0.9146333333333359,\n",
       "  0.9165166666348799,\n",
       "  0.9177166666666691,\n",
       "  0.9163666666984583,\n",
       "  0.918316666666669,\n",
       "  0.9207499999682128,\n",
       "  0.9190833333651247,\n",
       "  0.9204333333015463,\n",
       "  0.9222999999682129,\n",
       "  0.9228833333015461,\n",
       "  0.9246000000317909,\n",
       "  0.9252166666666682,\n",
       "  0.9257666666348793,\n",
       "  0.9274166666984576,\n",
       "  0.9270833333015457,\n",
       "  0.9253833333333349,\n",
       "  0.9269833333651242,\n",
       "  0.9259166666348791,\n",
       "  0.9296999999682124,\n",
       "  0.9297833333015455,\n",
       "  0.9297499999682122,\n",
       "  0.9293000000000013,\n",
       "  0.9308333333333346,\n",
       "  0.9311166666984572,\n",
       "  0.9315333333333347,\n",
       "  0.9303666666348787,\n",
       "  0.9328166666348786,\n",
       "  0.9320666666666678,\n",
       "  0.9330166666666676,\n",
       "  0.9334833333015452,\n",
       "  0.9334166666348785],\n",
       " 'val_loss_list': [1.6813423219680785,\n",
       "  1.5996861772537232,\n",
       "  1.573583877944947,\n",
       "  1.5604929203033449,\n",
       "  1.5518888536453244,\n",
       "  1.5457319673538206,\n",
       "  1.541252144241333,\n",
       "  1.538062788772584,\n",
       "  1.5346213188171387,\n",
       "  1.532030919075012,\n",
       "  1.5299967666625978,\n",
       "  1.5277033630371095,\n",
       "  1.5263164354324343,\n",
       "  1.524244584465027,\n",
       "  1.5232496160507207,\n",
       "  1.5213337221145629,\n",
       "  1.5206755182266238,\n",
       "  1.5197183851242069,\n",
       "  1.5183185609817504,\n",
       "  1.5168994853973388,\n",
       "  1.5162738540649412,\n",
       "  1.51587453994751,\n",
       "  1.514870117759705,\n",
       "  1.5139693050384526,\n",
       "  1.5130793724060057,\n",
       "  1.5122437261581418,\n",
       "  1.5114508285522463,\n",
       "  1.5107213468551637,\n",
       "  1.5105401058197019,\n",
       "  1.5094262332916262,\n",
       "  1.509212912940979,\n",
       "  1.508816691207886,\n",
       "  1.508539065742493,\n",
       "  1.5080633462905888,\n",
       "  1.5075619117736812,\n",
       "  1.5072073335647582,\n",
       "  1.5067236515045161,\n",
       "  1.5063345474243164,\n",
       "  1.5060622175216678,\n",
       "  1.5051812122344976,\n",
       "  1.5046455471038827,\n",
       "  1.504726784133911,\n",
       "  1.5041710704803475,\n",
       "  1.5039700677871706,\n",
       "  1.503520392608643,\n",
       "  1.5036680366516118,\n",
       "  1.5028916490554804,\n",
       "  1.5024889087677005,\n",
       "  1.5024474925994873,\n",
       "  1.5020515573501583],\n",
       " 'val_acc_list': [0.8956999999999999,\n",
       "  0.9076999999999997,\n",
       "  0.9146000000000005,\n",
       "  0.9182,\n",
       "  0.9228000000000002,\n",
       "  0.9242000000000005,\n",
       "  0.9265000000000004,\n",
       "  0.9297000000000003,\n",
       "  0.9315000000000002,\n",
       "  0.9327000000000002,\n",
       "  0.9347000000000002,\n",
       "  0.9357000000000006,\n",
       "  0.9374000000000002,\n",
       "  0.9386000000000002,\n",
       "  0.9406000000000004,\n",
       "  0.9424,\n",
       "  0.9432999999999997,\n",
       "  0.9437,\n",
       "  0.9458999999999996,\n",
       "  0.9471999999999997,\n",
       "  0.9467999999999999,\n",
       "  0.9477999999999998,\n",
       "  0.9482999999999998,\n",
       "  0.9500999999999996,\n",
       "  0.9505999999999998,\n",
       "  0.9504999999999999,\n",
       "  0.9512999999999999,\n",
       "  0.9511999999999997,\n",
       "  0.9513999999999997,\n",
       "  0.9530999999999995,\n",
       "  0.9524999999999997,\n",
       "  0.9536999999999999,\n",
       "  0.9537999999999996,\n",
       "  0.9539999999999993,\n",
       "  0.9539999999999994,\n",
       "  0.9556999999999998,\n",
       "  0.9547999999999998,\n",
       "  0.9558999999999994,\n",
       "  0.9564999999999995,\n",
       "  0.9573999999999994,\n",
       "  0.9583999999999993,\n",
       "  0.9574999999999996,\n",
       "  0.9577999999999999,\n",
       "  0.9574999999999994,\n",
       "  0.9585999999999997,\n",
       "  0.9593999999999998,\n",
       "  0.9602999999999995,\n",
       "  0.9599999999999992,\n",
       "  0.9598999999999996,\n",
       "  0.9609999999999993]}"
      ]
     },
     "execution_count": 50,
     "metadata": {},
     "output_type": "execute_result"
    },
    {
     "data": {
      "image/png": "[encoded data removed]",
      "text/plain": [
       "<Figure size 1000x400 with 2 Axes>"
      ]
     },
     "metadata": {},
     "output_type": "display_data"
    }
   ],
   "source": [
    "trainer = Trainer(model, \"adam\", 1e-3, 128, 50, 1e-5)\n",
    "trainer.train(train_data, test_data)"
   ]
  },
  {
   "cell_type": "code",
   "execution_count": null,
   "id": "607ad7f9",
   "metadata": {},
   "outputs": [],
   "source": []
  }
 ],
 "metadata": {
  "kernelspec": {
   "display_name": "Python 3",
   "language": "python",
   "name": "python3"
  },
  "language_info": {
   "codemirror_mode": {
    "name": "ipython",
    "version": 3
   },
   "file_extension": ".py",
   "mimetype": "text/x-python",
   "name": "python",
   "nbconvert_exporter": "python",
   "pygments_lexer": "ipython3",
   "version": "3.12.1"
  }
 },
 "nbformat": 4,
 "nbformat_minor": 5
}
