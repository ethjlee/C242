{
 "cells": [
  {
   "cell_type": "markdown",
   "id": "d129e724",
   "metadata": {},
   "source": [
    "# Question 1"
   ]
  },
  {
   "cell_type": "markdown",
   "id": "aad25a87",
   "metadata": {},
   "source": [
    "The D-dimensional Schwefel function:\n",
    "\n",
    "$$f(x_1, x_2, \\cdots,x_D) = 418.9829D - \\sum_i^D x_i\\sin(\\sqrt{|x_i|})$$\n",
    "\n",
    "where $x_i\\in[-500, 500]$ for $i=1,2,\\cdots,D$.\n",
    "\n",
    "*For debugging*: The global minimum is 0, which is reached at $x_i=420.9687$"
   ]
  },
  {
   "cell_type": "code",
   "execution_count": 1,
   "id": "aeb8557e",
   "metadata": {},
   "outputs": [],
   "source": [
    "import numpy as np\n",
    "import matplotlib.pyplot as plt"
   ]
  },
  {
   "cell_type": "code",
   "execution_count": 2,
   "id": "7e09743f",
   "metadata": {},
   "outputs": [
    {
     "name": "stdout",
     "output_type": "stream",
     "text": [
      "1.272783748618167e-05\n"
     ]
    }
   ],
   "source": [
    "def Schwefel(X):\n",
    "    D = len(X)\n",
    "    sum = np.sum(X * np.sin(np.sqrt(np.abs(X))))\n",
    "    return 418.9829 * D - sum\n",
    "\n",
    "# for visualization if you want\n",
    "def plot_surface(func, x_min=-2, x_max=2, y_min=-2, y_max=2):\n",
    "    a = np.linspace(x_min, x_max, 100)\n",
    "    b = np.linspace(y_min, y_max, 100)\n",
    "    x,y = np.meshgrid(a, b)\n",
    "    z = func((x, y))\n",
    "    fig = plt.figure()\n",
    "    ax = fig.add_subplot(projection='3d')\n",
    "    ax.plot_surface(x, y, z)\n",
    "\n",
    "print(Schwefel([420.9687]))"
   ]
  },
  {
   "cell_type": "code",
   "execution_count": 3,
   "id": "5384255a",
   "metadata": {},
   "outputs": [],
   "source": [
    "def SA(solution, func, schedule, delta, boundary, n_iter=10, report_interval=None):\n",
    "    \"\"\" \n",
    "    Simulated Annealing for minimization\n",
    "    \n",
    "    Parameters\n",
    "    ----------\n",
    "    solution: np.ndarray\n",
    "        Initial guess\n",
    "    func: Callable\n",
    "        Function to minimize\n",
    "    schedule: np.ndarray\n",
    "        An array of temperatures for simulated annealing\n",
    "    delta: float\n",
    "        Magnitude of random displacement\n",
    "    boundary: tuple\n",
    "        Boundary of the variables to minimize. (lowerbound,upperbound)\n",
    "    n_iter: int\n",
    "        Number of random displacement move in each temperature\n",
    "    report_interavl: int\n",
    "        Number of temperature steps to report result\n",
    "    \n",
    "    Returns\n",
    "    -------\n",
    "    res: dict\n",
    "        Minimized point and its evaulation value\n",
    "    \"\"\"\n",
    "    \n",
    "    best_solution = solution.copy()\n",
    "    lowest_eval = func(best_solution)\n",
    "    \n",
    "    for idx, temp in enumerate(schedule):\n",
    "        if report_interval is not None and ((idx + 1) % report_interval == 0 or idx == 0):\n",
    "            msg = (\n",
    "                f\"{idx + 1}/{len(schedule)}, Temp: {temp:.2f}, \"\n",
    "                f\"Best solution: {best_solution}, Value: {lowest_eval:.7f}\"\n",
    "            )\n",
    "            print(msg)\n",
    "        \n",
    "        for n in range(n_iter):\n",
    "            trial = solution.copy()\n",
    "            # do a random displacement\n",
    "            urn = np.random.uniform(size=len(solution))\n",
    "            trial += (2 * urn - 1) * delta\n",
    "            if np.all(trial >= boundary[0]) and np.all(trial <= boundary[1]):\n",
    "                # fill in acceptance criterion\n",
    "                energy = func(trial) - func(solution)\n",
    "                if energy < 0 or np.random.uniform() < np.exp(-1 / temp * energy):\n",
    "                    solution = trial\n",
    "                    if func(solution) < lowest_eval:\n",
    "                        # update solution here\n",
    "                        best_solution = solution.copy()\n",
    "                        lowest_eval = func(best_solution)\n",
    "                        assert np.array_equal(solution, best_solution)\n",
    "\n",
    "    return {\"solution\":best_solution, \"evaluation\":lowest_eval}"
   ]
  },
  {
   "cell_type": "code",
   "execution_count": 4,
   "id": "5e60c043",
   "metadata": {},
   "outputs": [],
   "source": [
    "starting = 500 * (np.random.random(10) * 2 - 1)\n",
    "#print(SA(starting, func=Schwefel, schedule=np.arange(3000, 30-0.5, -0.5), delta=0.5, boundary=[-500, 500], report_interval=1000))\n"
   ]
  },
  {
   "cell_type": "markdown",
   "id": "9d076807",
   "metadata": {},
   "source": [
    "## (a)"
   ]
  },
  {
   "cell_type": "markdown",
   "id": "d73ef5f0",
   "metadata": {},
   "source": [
    "*For debugging*: \n",
    "\n",
    "Length of schedule 5941 for 30K, 5981 for 10K (both initial temperature and final temperature are included in the schedule). The function evaluation of your solution usually falls in the range of 2000~4000 with `delta=0.5` and `n_iter=10`. "
   ]
  },
  {
   "cell_type": "code",
   "execution_count": 5,
   "id": "7d32639e",
   "metadata": {},
   "outputs": [],
   "source": [
    "def linear_cooling(init_temp, final_temp, alpha):\n",
    "    #starting = 500 * (np.random.random(10) * 2 - 1)\n",
    "    return SA(starting, func=Schwefel, schedule=np.arange(init_temp, final_temp-alpha, -alpha), delta=0.5, \n",
    "              boundary=[-500, 500], report_interval=None)"
   ]
  },
  {
   "cell_type": "code",
   "execution_count": 6,
   "id": "547ea242",
   "metadata": {},
   "outputs": [
    {
     "name": "stdout",
     "output_type": "stream",
     "text": [
      "Minimized values at 30K: 3469.47271173174 +/- 488.46507913959505\n",
      "Minimized values at 10K: 2734.1306068545723 +/- 384.48488578277437\n",
      "length of schedule (30k): 5941\n",
      "length of schedule (10k): 5981\n"
     ]
    }
   ],
   "source": [
    "# Print average & standard deviation of minimized values of 3 runs\n",
    "res1 = []\n",
    "res2 = []\n",
    "for i in range(3):\n",
    "    res1.append(linear_cooling(3000, 30, 0.5))\n",
    "    res2.append(linear_cooling(3000, 10, 0.5))\n",
    "print(f\"Minimized values at 30K: {np.mean([j['evaluation'] for j in res1])} +/- {np.std([j['evaluation'] for j in res1])}\")\n",
    "print(f\"Minimized values at 10K: {np.mean([j['evaluation'] for j in res2])} +/- {np.std([j['evaluation'] for j in res2])}\")\n",
    "\n",
    "print(\"length of schedule (30k):\", len(np.arange(3000, 30-0.5, -0.5)))\n",
    "print(\"length of schedule (10k):\", len(np.arange(3000, 10-0.5, -0.5)))"
   ]
  },
  {
   "cell_type": "markdown",
   "id": "1eaf189b",
   "metadata": {},
   "source": [
    "### (a) The lower temperature has a better solution than the higher temperature.  It seems like it converged closer to the minimum."
   ]
  },
  {
   "cell_type": "markdown",
   "id": "e7bde533",
   "metadata": {},
   "source": [
    "## (b)"
   ]
  },
  {
   "cell_type": "markdown",
   "id": "1c3c8081",
   "metadata": {},
   "source": [
    "*For debugging*:\n",
    "\n",
    "The final temperature should be 326.10415680714726 (starting from 6000K) or 309.29382323518576 (starting from 3000K)."
   ]
  },
  {
   "cell_type": "code",
   "execution_count": 7,
   "id": "75c38aea",
   "metadata": {},
   "outputs": [],
   "source": [
    "def log_cooling(init_temp, sigma, k):\n",
    "    sched = [init_temp]\n",
    "    for i in range(1, k+1):\n",
    "        sched.append(init_temp / (1 + init_temp*np.log(1 + i) / (3 * sigma )))\n",
    "    print(f\"The final temperature of schedule, with initial temperature of {init_temp} is {sched[-1]}\") # debugging, using 1-6000\n",
    "    return SA(solution=starting, func=Schwefel, schedule=sched, delta=0.5, boundary=[-500, 500], report_interval=None)"
   ]
  },
  {
   "cell_type": "code",
   "execution_count": 8,
   "id": "168c737a",
   "metadata": {},
   "outputs": [
    {
     "name": "stdout",
     "output_type": "stream",
     "text": [
      "The final temperature of schedule, with initial temperature of 6000 is 326.0982494108243\n",
      "The final temperature of schedule, with initial temperature of 3000 is 309.2885091765957\n",
      "The final temperature of schedule, with initial temperature of 6000 is 326.0982494108243\n",
      "The final temperature of schedule, with initial temperature of 3000 is 309.2885091765957\n",
      "The final temperature of schedule, with initial temperature of 6000 is 326.0982494108243\n",
      "The final temperature of schedule, with initial temperature of 3000 is 309.2885091765957\n",
      "Minimized values starting from 6000K: 2897.8650074372345 +/- 470.1988712698914\n",
      "Minimized values starting from 3000K: 2675.431549454165 +/- 211.43462881226515\n"
     ]
    }
   ],
   "source": [
    "# Print average & standard deviation of minimized values of 3 runs\n",
    "hot = []\n",
    "cold = []\n",
    "for i in range(3):\n",
    "    hot.append(log_cooling(6000, sigma=1000, k=6000))\n",
    "    cold.append(log_cooling(3000, 1000, 6000))\n",
    "print(f\"Minimized values starting from 6000K: {np.mean([i['evaluation'] for i in hot])} +/- {np.std([i['evaluation'] for i in hot])}\")\n",
    "print(f\"Minimized values starting from 3000K: {np.mean([i['evaluation'] for i in cold])} +/- {np.std([i['evaluation'] for i in cold])}\")\n"
   ]
  },
  {
   "cell_type": "markdown",
   "id": "d40b2d3e",
   "metadata": {},
   "source": [
    "### Do these cooling schedules converge better than linear cooling? \n",
    "#### In general, the logarithmic cooling minimized better than the linear cooling.  The linear cooling converged on values around ~3000, but the logarithmic cooling was around 2500-2800.  However, from a mathematical standpoint, we know that logarithmic cooling is more likely to converge than linear cooling, but logarithmic cooling will take much longer because it is exponential."
   ]
  },
  {
   "cell_type": "markdown",
   "id": "0c20378e",
   "metadata": {},
   "source": [
    "## (c) "
   ]
  },
  {
   "cell_type": "code",
   "execution_count": 9,
   "id": "850dc0fb",
   "metadata": {},
   "outputs": [],
   "source": [
    "# construct your cooling schedule\n",
    "def custom_cooling(init_temp, final_temp):\n",
    "    schedule = []\n",
    "    cooling = True\n",
    "    segment_size = 1000\n",
    "    curr_temp = init_temp\n",
    "    while curr_temp > 0:\n",
    "        if cooling:\n",
    "            decreasing = np.arange(curr_temp, curr_temp - segment_size, -1)\n",
    "            schedule = np.concatenate((schedule, decreasing))\n",
    "            curr_temp = curr_temp - segment_size\n",
    "            cooling = False\n",
    "        else:\n",
    "            increasing = np.arange(curr_temp, curr_temp + segment_size / 2)\n",
    "            schedule = np.concatenate((schedule, increasing))\n",
    "\n",
    "            curr_temp = curr_temp + segment_size / 2\n",
    "            cooling = True\n",
    "    return SA(solution=starting, func=Schwefel, schedule=schedule, delta=0.5, boundary=[-500, 500], report_interval=None)"
   ]
  },
  {
   "cell_type": "code",
   "execution_count": 10,
   "id": "3814c98e",
   "metadata": {},
   "outputs": [
    {
     "name": "stdout",
     "output_type": "stream",
     "text": [
      "Minimized values starting from 6000K: 2368.1970597160102 +/- 91.08218257562521\n",
      "Minimized values starting from 3000K: 2646.2211656741933 +/- 703.3675607584973\n"
     ]
    }
   ],
   "source": [
    "# Print average & standard deviation of minimized values of 3 runs\n",
    "hot = []\n",
    "cold = []\n",
    "for _ in range(3):\n",
    "    hot.append(custom_cooling(6000, 1))\n",
    "    cold.append(custom_cooling(3000, 1))\n",
    "print(f\"Minimized values starting from 6000K: {np.mean([i['evaluation'] for i in hot])} +/- {np.std([i['evaluation'] for i in hot])}\")\n",
    "print(f\"Minimized values starting from 3000K: {np.mean([i['evaluation'] for i in cold])} +/- {np.std([i['evaluation'] for i in cold])}\")"
   ]
  },
  {
   "cell_type": "markdown",
   "id": "6e9dbb89",
   "metadata": {},
   "source": [
    "### Can you find an even better solution?\n",
    "#### What I did was essentially linear, but with extra steps, in hopes that I would find a better minimum by preventing cooling too fast.  My algorithm seemed to minimize better than the straightforward linear cooling and the log cooling."
   ]
  },
  {
   "cell_type": "markdown",
   "id": "46cd8547",
   "metadata": {},
   "source": [
    "# Question 2"
   ]
  },
  {
   "cell_type": "markdown",
   "id": "d3cf2395",
   "metadata": {},
   "source": [
    "## (a) In encoding a, the best solutions with f(x) > 27 are 3, 4, 5.  \n",
    "```\n",
    "3 30 1000\n",
    "4 31 0010\n",
    "5 30 0001\n",
    "\n",
    "The best shared schema for Encoding A is *0**.  The length is 0.  The order is 1.\n",
    "```\n",
    "## In encoding b, the best solutions are 3,4,5.\n",
    "```\n",
    "3 30 1101\n",
    "4 31 1011\n",
    "5 30 1111\n",
    "\n",
    "The best shared schema for Encoding B 1**1.  The length is 3.  The order is 2.\n",
    "```\n",
    "\n",
    "## Based on these results, I will be using Encoding A because it has shorter length and small order.\n"
   ]
  },
  {
   "cell_type": "markdown",
   "id": "4b155b76",
   "metadata": {},
   "source": [
    "## (b)"
   ]
  },
  {
   "cell_type": "code",
   "execution_count": 11,
   "id": "d643c36c",
   "metadata": {},
   "outputs": [],
   "source": [
    "import pandas as pd\n",
    "\n",
    "\n",
    "solution_dict = {\n",
    "    \"1011\": 0, \"0011\": 1, \"1001\": 2, \"1000\": 3,\n",
    "    \"0010\": 4, \"0001\": 5, \"0000\": 6, \"1010\": 7,\n",
    "    \"0100\": 8, \"1100\": 9, \"0101\":10, \"0110\":11,\n",
    "    \"0111\":12, \"1101\":13, \"1110\":14, \"1111\":15\n",
    "}\n",
    "\n",
    "\n",
    "def func(vec):\n",
    "    x = solution_dict[vec]\n",
    "    return -x ** 2 + 8 * x + 15\n",
    "\n",
    "\n",
    "def one_point_crossover(parent1, parent2, point):\n",
    "    point -= 1\n",
    "    return (parent1[:point] + parent2[point] + parent1[point + 1:], parent2[:point] + parent1[point] + parent2[point + 1:])\n",
    "    \n",
    "def evaluate_population(pop):\n",
    "    df = pd.DataFrame({\n",
    "        \"Solutions\": [solution_dict[vec] for vec in pop],\n",
    "        \"Vectors\": pop,\n",
    "        \"Fitness\": [func(vec) for vec in pop]\n",
    "    })\n",
    "    df.sort_values(by=[\"Fitness\"], ascending=False, inplace=True)\n",
    "    df.reset_index(inplace=True, drop=True)\n",
    "    print(f\"Total Fitness: {np.sum(df['Fitness'])}\")\n",
    "    print(f\"Best Solution: {df.loc[0, 'Solutions']} (with fitness {df.loc[0, 'Fitness']})\")\n",
    "    return df"
   ]
  },
  {
   "cell_type": "markdown",
   "id": "726a7442",
   "metadata": {},
   "source": [
    "*For debugging*: Use the following function to test `one_point_crossover()`"
   ]
  },
  {
   "cell_type": "code",
   "execution_count": 12,
   "id": "2b65c7d5",
   "metadata": {},
   "outputs": [
    {
     "name": "stdout",
     "output_type": "stream",
     "text": [
      "Well done!\n"
     ]
    }
   ],
   "source": [
    "def test_one_point_crossover():\n",
    "    c1, c2 = one_point_crossover(\"0000\", \"1111\", 1)\n",
    "    if {c1, c2} == {\"1000\", \"0111\"}:\n",
    "        print(\"Well done!\")\n",
    "    else:\n",
    "        raise Exception(\"Wrong implementation\")\n",
    "\n",
    "test_one_point_crossover()"
   ]
  },
  {
   "cell_type": "code",
   "execution_count": 13,
   "id": "1b7f7679",
   "metadata": {},
   "outputs": [
    {
     "name": "stdout",
     "output_type": "stream",
     "text": [
      "Total Fitness: -25\n",
      "Best Solution: 6 (with fitness 27)\n",
      "[[6, '0000', 27], [15, '1111', -90], [1, '0011', 22], [10, '0101', -5], [0, '1011', 15], [9, '1100', 6]]\n"
     ]
    }
   ],
   "source": [
    "pop_eval = evaluate_population([\"0101\", \"0011\", \"1111\", \"0000\", \"1011\", \"1100\"]).to_numpy()\n",
    "pop_eval = [list(row) for row in [pop_eval[i] for i in range(len(pop_eval)//2) for i in (i, -i-1)]]\n",
    "print(pop_eval)"
   ]
  },
  {
   "cell_type": "markdown",
   "id": "00028559",
   "metadata": {},
   "source": [
    "*Hint*: Use `list.sort(key=...)` to sort a list of population according to its evaluation value. Maybe you can find [this](https://docs.python.org/3/howto/sorting.html#key-functions) useful."
   ]
  },
  {
   "cell_type": "markdown",
   "id": "64a38f7a",
   "metadata": {},
   "source": [
    "## (c)"
   ]
  },
  {
   "cell_type": "code",
   "execution_count": 14,
   "id": "7d699a24",
   "metadata": {},
   "outputs": [
    {
     "name": "stdout",
     "output_type": "stream",
     "text": [
      "Total Fitness: 35\n",
      "Best Solution: 3 (with fitness 30)\n",
      "   Solutions Vectors  Fitness\n",
      "0          3    1000       30\n",
      "1          1    0011       22\n",
      "2          0    1011       15\n",
      "3          9    1100        6\n",
      "4         10    0101       -5\n",
      "5         12    0111      -33\n"
     ]
    }
   ],
   "source": [
    "new_population = []\n",
    "for i in range(0, len(pop_eval), 2):\n",
    "    p1 = pop_eval[i][1]\n",
    "    p2 = pop_eval[i+1][1]\n",
    "    new_solution = one_point_crossover(p1, p2, point=1)\n",
    "    new_population.append(new_solution[0])\n",
    "    new_population.append(new_solution[1])\n",
    "print(evaluate_population(new_population))\n",
    "    "
   ]
  },
  {
   "cell_type": "markdown",
   "id": "b82e103a",
   "metadata": {},
   "source": [
    "### (c) Refer to print statement above to see new solutions.  Their fitness is 35, which is better than before.  The best solution is vector 0001 with fitness of 30, and vector 1000 with fitness 30.  The best solution here is better than the best solution from before."
   ]
  },
  {
   "cell_type": "markdown",
   "id": "dd1de31f",
   "metadata": {},
   "source": [
    "## (d)"
   ]
  },
  {
   "cell_type": "code",
   "execution_count": 15,
   "id": "e284e02a",
   "metadata": {
    "scrolled": true
   },
   "outputs": [],
   "source": [
    "def mutate(vec, point):\n",
    "    vector = \"\"\n",
    "    if vec[point] == \"1\":\n",
    "        vector = vec[:point] + \"0\" + vec[point+1:]\n",
    "    else:\n",
    "        vector = vec[:point] + \"1\" + vec[point+1:]\n",
    "    return vector\n"
   ]
  },
  {
   "cell_type": "code",
   "execution_count": 16,
   "id": "aefbef32",
   "metadata": {},
   "outputs": [
    {
     "name": "stdout",
     "output_type": "stream",
     "text": [
      "Total Fitness: -28\n",
      "Best Solution: 5 (with fitness 30)\n",
      "   Solutions Vectors  Fitness\n",
      "0          5    0001       30\n",
      "1          2    1001       27\n",
      "2          7    1010       22\n",
      "3         10    0101       -5\n",
      "4         12    0111      -33\n",
      "5         14    1110      -69\n"
     ]
    }
   ],
   "source": [
    "mutated_population = new_population.copy()\n",
    "for i in range(len(mutated_population)):\n",
    "    mutated_population[i] = mutate(mutated_population[i], 2)\n",
    "mutation_eval = evaluate_population(mutated_population)\n",
    "print(mutation_eval)\n"
   ]
  },
  {
   "cell_type": "markdown",
   "id": "701efd5d",
   "metadata": {},
   "source": [
    "*For debugging*: Use the following function to test `mutate()`"
   ]
  },
  {
   "cell_type": "code",
   "execution_count": 17,
   "id": "5022b54d",
   "metadata": {},
   "outputs": [
    {
     "name": "stdout",
     "output_type": "stream",
     "text": [
      "Well done\n"
     ]
    }
   ],
   "source": [
    "def test_mutate():\n",
    "    if \"0000\" == mutate(\"0100\", 1):\n",
    "        print(\"Well done\")\n",
    "    else:\n",
    "        raise Exception(\"Wrong implementation\")\n",
    "    \n",
    "test_mutate()"
   ]
  },
  {
   "cell_type": "markdown",
   "id": "e0f6e573",
   "metadata": {},
   "source": [
    "### (d) We have new solutions (see print output above).  The fitness is -28.  Mutations do not guarantee an increase in the fitness of a population, but there is certainly a chance of it happening."
   ]
  },
  {
   "cell_type": "markdown",
   "id": "4a301b45",
   "metadata": {},
   "source": [
    "## (e)"
   ]
  },
  {
   "cell_type": "code",
   "execution_count": 18,
   "id": "07781724",
   "metadata": {
    "scrolled": true
   },
   "outputs": [],
   "source": [
    "def two_point_crossover(parent1, parent2):\n",
    "    p1 = parent1[:1] + parent2[1:3] + parent1[3:]\n",
    "    p2 = parent2[:1] + parent1[1:3] + parent2[3:]\n",
    "    return (p1, p2)\n"
   ]
  },
  {
   "cell_type": "markdown",
   "id": "48f669b5",
   "metadata": {},
   "source": [
    "*For debugging*: Use the following function to test `two_point_crossover()`"
   ]
  },
  {
   "cell_type": "code",
   "execution_count": 19,
   "id": "7fd9e0dd",
   "metadata": {},
   "outputs": [
    {
     "name": "stdout",
     "output_type": "stream",
     "text": [
      "Well done\n"
     ]
    }
   ],
   "source": [
    "def test_two_point_crossover():\n",
    "    c1, c2 = two_point_crossover(\"0000\", \"1111\")\n",
    "    if {c1, c2} == {\"0110\", \"1001\"}:\n",
    "        print(\"Well done\")\n",
    "    else:\n",
    "        raise Exception(\"Wrong implementation\")\n",
    "\n",
    "test_two_point_crossover()"
   ]
  },
  {
   "cell_type": "code",
   "execution_count": 20,
   "id": "a0b54c7d",
   "metadata": {},
   "outputs": [
    {
     "name": "stdout",
     "output_type": "stream",
     "text": [
      "Total Fitness: 67\n",
      "Best Solution: 5 (with fitness 30)\n",
      "   Solutions Vectors  Fitness\n",
      "0          5    0001       30\n",
      "1          5    0001       30\n",
      "2          3    1000       30\n",
      "3          0    1011       15\n",
      "4         10    0101       -5\n",
      "5         12    0111      -33\n"
     ]
    }
   ],
   "source": [
    "mutation_eval = mutation_eval.to_numpy()\n",
    "mutation_eval = np.delete(mutation_eval, -1, 0) # remove last one, worst fitness\n",
    "mutation_eval = np.append(mutation_eval, [mutation_eval[0]], axis=0) # add best fitness (first row)\n",
    "sort_i = np.argsort(mutation_eval[:, -1])[::-1] # sort by last row, in descending order\n",
    "mutation_eval = mutation_eval[sort_i] # apply sort\n",
    "mutation_eval = [list(row) for row in [mutation_eval[i] for i in range(len(mutation_eval)//2) for i in (i, -i-1)]] # pair best with worst fitness, etc.\n",
    "\n",
    "two_point_population = []\n",
    "for i in range(0, len(mutation_eval), 2):\n",
    "    p1 = mutation_eval[i][1]\n",
    "    p2 = mutation_eval[i+1][1]\n",
    "    new_solution = two_point_crossover(p1, p2)\n",
    "    two_point_population.append(new_solution[0])\n",
    "    two_point_population.append(new_solution[1])\n",
    "\n",
    "two_point_eval = evaluate_population(two_point_population)\n",
    "print(two_point_eval)\n"
   ]
  },
  {
   "cell_type": "markdown",
   "id": "d625f927",
   "metadata": {},
   "source": [
    "### (e)  We have new solutions with a total fitness of 67, which is an improvement.  There are more solutions with a higher fitness of 30, although the max fitness did not go up (still 30)."
   ]
  },
  {
   "cell_type": "markdown",
   "id": "717a1694",
   "metadata": {},
   "source": [
    "## (f)"
   ]
  },
  {
   "cell_type": "code",
   "execution_count": 21,
   "id": "26ef0d9a",
   "metadata": {},
   "outputs": [
    {
     "name": "stdout",
     "output_type": "stream",
     "text": [
      "Total Fitness: 124\n",
      "Best Solution: 5 (with fitness 30)\n",
      "   Solutions Vectors  Fitness\n",
      "0          5    0001       30\n",
      "1          5    0001       30\n",
      "2          6    0000       27\n",
      "3          2    1001       27\n",
      "4          0    1011       15\n",
      "5         10    0101       -5\n"
     ]
    }
   ],
   "source": [
    "two_point_eval = two_point_eval.to_numpy()\n",
    "two_point_eval = np.delete(two_point_eval, -1, 0) # remove last one, worst fitness\n",
    "two_point_eval = np.append(two_point_eval, [two_point_eval[0]], axis=0) # add best fitness (first row)\n",
    "sort_i = np.argsort(two_point_eval[:, -1])[::-1] # sort by last row, in descending order\n",
    "two_point_eval = two_point_eval[sort_i] # apply sort\n",
    "\n",
    "final_population = []\n",
    "\n",
    "for i in range(0, len(two_point_eval), 2):\n",
    "    p1 = two_point_eval[i][1]\n",
    "    p2 = two_point_eval[i+1][1]\n",
    "    new_solution = one_point_crossover(p1, p2, 4)\n",
    "    final_population.append(new_solution[0])\n",
    "    final_population.append(new_solution[1])\n",
    "\n",
    "print(evaluate_population(final_population))"
   ]
  },
  {
   "cell_type": "markdown",
   "id": "1ed40943",
   "metadata": {},
   "source": [
    "### (f) The fitness is the best it has been, with 124.  However, the best solution only had a fitness of 30, which was the same as before.  We did not find a fitness above 30."
   ]
  },
  {
   "cell_type": "markdown",
   "id": "25f6e0b7",
   "metadata": {},
   "source": [
    "## (g) The encoding of the solution space was adequate.  We accounted for enough solutions that we were able to find the optimal population through Darwinian elimination.  Populations with short length and low order can generate a multitude of matching strings, which is what we found in Encoding A.  The number of matching strings that we can derive from a low-order, low-length encoding greatly increases our chance of finding the most fit solutions.  "
   ]
  }
 ],
 "metadata": {
  "kernelspec": {
   "display_name": "Python 3",
   "language": "python",
   "name": "python3"
  },
  "language_info": {
   "codemirror_mode": {
    "name": "ipython",
    "version": 3
   },
   "file_extension": ".py",
   "mimetype": "text/x-python",
   "name": "python",
   "nbconvert_exporter": "python",
   "pygments_lexer": "ipython3",
   "version": "3.8.18"
  }
 },
 "nbformat": 4,
 "nbformat_minor": 5
}
