{
 "cells": [
  {
   "cell_type": "markdown",
   "id": "ed779e31",
   "metadata": {},
   "source": [
    "# Tutorial 7 - CNN & Residual Network\n",
    "\n",
    "\n",
    "## Outline\n",
    "\n",
    "+ Convolutional Neural Network (CNN):\n",
    "    + Hyperparamters in CNN: channels, padding, stride, dilation\n",
    "    + Pooling\n",
    "    + CNN in PyTorch\n",
    "+ Residual Network\n",
    "+ Batch Normalization"
   ]
  },
  {
   "cell_type": "markdown",
   "id": "b258a127",
   "metadata": {},
   "source": [
    "# HW6 - Helper function\n",
    "\n",
    "\n",
    "You can use the following decorator to report time:"
   ]
  },
  {
   "cell_type": "code",
   "execution_count": 13,
   "id": "64f4321e",
   "metadata": {},
   "outputs": [
    {
     "name": "stdout",
     "output_type": "stream",
     "text": [
      "func:sleep took: 0.1002 sec\n"
     ]
    }
   ],
   "source": [
    "import time\n",
    "\n",
    "def timeit(f):\n",
    "\n",
    "    def timed(*args, **kw):\n",
    "\n",
    "        ts = time.time()\n",
    "        result = f(*args, **kw)\n",
    "        te = time.time()\n",
    "\n",
    "        print(f'func:{f.__name__} took: {te-ts:.4f} sec')\n",
    "        return result\n",
    "\n",
    "    return timed\n",
    "\n",
    "@timeit\n",
    "def sleep(sec):\n",
    "    return time.sleep(sec)\n",
    "\n",
    "sleep(0.1)"
   ]
  },
  {
   "cell_type": "markdown",
   "id": "074b70bc",
   "metadata": {},
   "source": [
    "## Convolutional Neural Netwok (CNN)\n",
    "\n",
    "### CNN general architechture\n",
    "![](https://cdn-images-1.medium.com/max/800/1*lvvWF48t7cyRWqct13eU0w.jpeg)  \n",
    "\n",
    "\n",
    "### Convolution Filters help extract features\n",
    "![](https://qph.fs.quoracdn.net/main-qimg-50915e66f98186a786b3d0344eea9aba-pjlq)  \n",
    "\n",
    "### Calculating convolution output shape\n",
    "Here is a [visualiztion](https://github.com/vdumoulin/conv_arithmetic/blob/master/README.md) for padding, stride and dilation\n",
    "\n",
    "$$H_{\\text {out }}=\\left[\\frac{H_{\\text {in }}+2 \\times \\text { padding }-\\operatorname{dilation} \\times(\\text { kernel size }-1)-1}{\\text { stride }}+1\\right]$$\n"
   ]
  },
  {
   "cell_type": "code",
   "execution_count": 14,
   "id": "8576ccfc",
   "metadata": {},
   "outputs": [],
   "source": [
    "import pickle\n",
    "import torch\n",
    "import torch.nn as nn"
   ]
  },
  {
   "cell_type": "code",
   "execution_count": 15,
   "id": "a27fb37e",
   "metadata": {
    "scrolled": true
   },
   "outputs": [
    {
     "name": "stdout",
     "output_type": "stream",
     "text": [
      "tensor([[[0.1888]]], grad_fn=<SqueezeBackward1>)\n",
      "tensor([[[[ 0.2187, -0.3329],\n",
      "          [ 0.1750, -0.0343]]]])\n",
      "tensor([0.1888])\n"
     ]
    }
   ],
   "source": [
    "# init a Conv2d layer\n",
    "conv = nn.Conv2d(1, 1, kernel_size=2)\n",
    "data = torch.rand(1, 2, 2)\n",
    "print(conv(data))\n",
    "print(conv.weight.data)\n",
    "conv.bias.data\n",
    "print(torch.sum(conv.weight.data * data) + conv.bias.data)"
   ]
  },
  {
   "cell_type": "code",
   "execution_count": 16,
   "id": "4a24b5cd",
   "metadata": {},
   "outputs": [
    {
     "data": {
      "text/plain": [
       "MaxPool2d(kernel_size=2, stride=2, padding=0, dilation=1, ceil_mode=False)"
      ]
     },
     "execution_count": 16,
     "metadata": {},
     "output_type": "execute_result"
    }
   ],
   "source": [
    "# init a MaxPool layer\n",
    "max_pool = nn.MaxPool2d(2)\n",
    "max_pool"
   ]
  },
  {
   "cell_type": "code",
   "execution_count": 17,
   "id": "7c02f960",
   "metadata": {},
   "outputs": [
    {
     "data": {
      "text/plain": [
       "AvgPool2d(kernel_size=2, stride=2, padding=0)"
      ]
     },
     "execution_count": 17,
     "metadata": {},
     "output_type": "execute_result"
    }
   ],
   "source": [
    "# init a Average Pool layer\n",
    "avg_pool = nn.AvgPool2d(2)\n",
    "avg_pool"
   ]
  },
  {
   "cell_type": "code",
   "execution_count": 18,
   "id": "2a3dcfc4",
   "metadata": {},
   "outputs": [
    {
     "data": {
      "text/plain": [
       "tensor([[[[0.3643]]]], grad_fn=<ConvolutionBackward0>)"
      ]
     },
     "execution_count": 18,
     "metadata": {},
     "output_type": "execute_result"
    }
   ],
   "source": [
    "def out_dim(in_dim, kernel_size, padding, stride, dilation):\n",
    "    return (in_dim + 2 * padding - dilation * (kernel_size - 1) - 1) // stride + 1\n",
    "\n",
    "\n",
    "# data shape: (N, C, W, H)\n",
    "data = torch.rand(1, 1, 2, 2)\n",
    "conv(data)"
   ]
  },
  {
   "cell_type": "markdown",
   "id": "e2c580b7",
   "metadata": {},
   "source": [
    "### LeNet architecture\n",
    "LeCun, Y.; Bottou, L.; Bengio, Y. & Haffner, P. (1998). Gradient-based learning applied to document recognition.Proceedings of the IEEE. 86(11): 2278 - 2324.\n",
    "\n",
    "|Layer No.|Layer type|#channels/#features|Kernel size|Stride|Activation|\n",
    "|---|---|---|---|---|---|\n",
    "|1|2D Convolution|6|5|1|tanh|\n",
    "|2|Average pooling|6|2|2|\\\\|\n",
    "|3|2D Convolution|16|5|1|tanh|\n",
    "|4|Average pooling|16|2|2|\\\\|\n",
    "|5|2D Convolution|120|5|1|tanh|\n",
    "|6|Flatten|\\\\|\\\\|\\\\|\\\\|\n",
    "|7|Fully connected|84|\\\\|\\\\|tanh|\n",
    "|8|Fully connected|10|\\\\|\\\\|softmax|"
   ]
  },
  {
   "cell_type": "code",
   "execution_count": 19,
   "id": "c3860950",
   "metadata": {},
   "outputs": [
    {
     "name": "stderr",
     "output_type": "stream",
     "text": [
      "<>:11: SyntaxWarning: invalid escape sequence '\\m'\n",
      "<>:11: SyntaxWarning: invalid escape sequence '\\m'\n",
      "C:\\Users\\artui\\AppData\\Local\\Temp\\ipykernel_22324\\1970458788.py:11: SyntaxWarning: invalid escape sequence '\\m'\n",
      "  X_train, y_train, X_test, y_test = load_dataset(\"Datasets\\mnist.pkl\")\n"
     ]
    }
   ],
   "source": [
    "def load_dataset(path):\n",
    "    with open(path, 'rb') as f:\n",
    "        train_data, test_data = pickle.load(f)\n",
    "    \n",
    "    X_train = torch.tensor(train_data[0], dtype=torch.float).unsqueeze(1)\n",
    "    y_train = torch.tensor(train_data[1], dtype=torch.long).unsqueeze(1)\n",
    "    X_test = torch.tensor(test_data[0], dtype=torch.float).unsqueeze(1)\n",
    "    y_test = torch.tensor(test_data[1], dtype=torch.long).unsqueeze(1)\n",
    "    return X_train, y_train, X_test, y_test\n",
    "\n",
    "X_train, y_train, X_test, y_test = load_dataset(\"Datasets\\mnist.pkl\")"
   ]
  },
  {
   "cell_type": "code",
   "execution_count": 20,
   "id": "6328fc5f",
   "metadata": {},
   "outputs": [
    {
     "name": "stdout",
     "output_type": "stream",
     "text": [
      "torch.Size([10, 32, 32])\n",
      "torch.Size([10, 1, 32, 32])\n"
     ]
    }
   ],
   "source": [
    "X = torch.rand(10, 32, 32)\n",
    "print(X.shape)\n",
    "X = X.unsqueeze(1)\n",
    "print(X.shape)"
   ]
  },
  {
   "cell_type": "code",
   "execution_count": 21,
   "id": "dc07401b",
   "metadata": {},
   "outputs": [
    {
     "data": {
      "text/plain": [
       "LeNet(\n",
       "  (conv): ModuleList(\n",
       "    (0): Conv2d(1, 6, kernel_size=(5, 5), stride=(1, 1))\n",
       "    (1): Conv2d(6, 16, kernel_size=(5, 5), stride=(1, 1))\n",
       "    (2): Conv2d(16, 120, kernel_size=(5, 5), stride=(1, 1))\n",
       "  )\n",
       "  (pool): AvgPool2d(kernel_size=2, stride=2, padding=0)\n",
       "  (activation): Tanh()\n",
       "  (fc): ModuleList(\n",
       "    (0): Linear(in_features=120, out_features=84, bias=True)\n",
       "    (1): Linear(in_features=84, out_features=10, bias=True)\n",
       "  )\n",
       ")"
      ]
     },
     "execution_count": 21,
     "metadata": {},
     "output_type": "execute_result"
    }
   ],
   "source": [
    "class LeNet(nn.Module):\n",
    "    def __init__(self, in_channels=1):\n",
    "        super().__init__()\n",
    "        self.conv = nn.ModuleList([\n",
    "            nn.Conv2d(in_channels, 6, kernel_size=5, stride=1),\n",
    "            nn.Conv2d(6, 16, kernel_size=5, stride=1),\n",
    "            nn.Conv2d(16, 120, kernel_size=5, stride=1)\n",
    "        ])\n",
    "        self.pool = nn.AvgPool2d(2)\n",
    "        self.activation = nn.Tanh()\n",
    "        self.fc = nn.ModuleList([\n",
    "            nn.Linear(120, 84),\n",
    "            nn.Linear(84, 10)\n",
    "        ])\n",
    "    \n",
    "    def forward(self, x):\n",
    "        for i in range(2):\n",
    "            x = self.pool(self.activation(self.conv[i](x)))\n",
    "        x = nn.Flatten()(self.activation(self.conv[2](x)))\n",
    "        x = self.activation(self.fc[0](x))\n",
    "        x = nn.Softmax(dim=-1)(self.fc[1](x))\n",
    "        return x\n",
    "\n",
    "net = LeNet()\n",
    "net"
   ]
  },
  {
   "cell_type": "code",
   "execution_count": 22,
   "id": "fc16c4fe",
   "metadata": {},
   "outputs": [
    {
     "name": "stdout",
     "output_type": "stream",
     "text": [
      "==========================================================================================\n",
      "Layer (type:depth-idx)                   Output Shape              Param #\n",
      "==========================================================================================\n",
      "├─ModuleList: 1                          []                        --\n",
      "|    └─Conv2d: 2-1                       [-1, 6, 28, 28]           156\n",
      "├─Tanh: 1-1                              [-1, 6, 28, 28]           --\n",
      "├─AvgPool2d: 1-2                         [-1, 6, 14, 14]           --\n",
      "├─ModuleList: 1                          []                        --\n",
      "|    └─Conv2d: 2-2                       [-1, 16, 10, 10]          2,416\n",
      "├─Tanh: 1-3                              [-1, 16, 10, 10]          --\n",
      "├─AvgPool2d: 1-4                         [-1, 16, 5, 5]            --\n",
      "├─ModuleList: 1                          []                        --\n",
      "|    └─Conv2d: 2-3                       [-1, 120, 1, 1]           48,120\n",
      "├─Tanh: 1-5                              [-1, 120, 1, 1]           --\n",
      "├─ModuleList: 1                          []                        --\n",
      "|    └─Linear: 2-4                       [-1, 84]                  10,164\n",
      "├─Tanh: 1-6                              [-1, 84]                  --\n",
      "├─ModuleList: 1                          []                        --\n",
      "|    └─Linear: 2-5                       [-1, 10]                  850\n",
      "==========================================================================================\n",
      "Total params: 61,706\n",
      "Trainable params: 61,706\n",
      "Non-trainable params: 0\n",
      "Total mult-adds (M): 0.42\n",
      "==========================================================================================\n",
      "Input size (MB): 0.00\n",
      "Forward/backward pass size (MB): 0.05\n",
      "Params size (MB): 0.24\n",
      "Estimated Total Size (MB): 0.29\n",
      "==========================================================================================\n"
     ]
    }
   ],
   "source": [
    "# Use torchsummary to print the architecture\n",
    "# ! pip install torch-summary\n",
    "from torchsummary import summary\n",
    "\n",
    "s = summary(net, (1, 32, 32))"
   ]
  },
  {
   "cell_type": "code",
   "execution_count": 25,
   "id": "b3a66d8b",
   "metadata": {
    "scrolled": false
   },
   "outputs": [],
   "source": [
    "#net(X_train[:10]).shape"
   ]
  },
  {
   "cell_type": "markdown",
   "id": "8b2e2252",
   "metadata": {},
   "source": [
    "## Residual Network (ResNet)\n",
    "\n",
    "\n",
    "An example of residual block:\n",
    "\n",
    "<img src=\"https://miro.medium.com/v2/resize:fit:868/format:webp/0*sGlmENAXIZhSqyFZ\" width=\"400\" />"
   ]
  },
  {
   "cell_type": "code",
   "execution_count": 26,
   "id": "71286358",
   "metadata": {},
   "outputs": [],
   "source": [
    "class ResBlock(nn.Module):\n",
    "    def __init__(self, dim):\n",
    "        super().__init__()\n",
    "        self.fc = nn.ModuleList([nn.Linear(dim, dim), nn.Linear(dim, dim)])\n",
    "        self.activation = nn.ReLU()\n",
    "    \n",
    "    def forward(self, x):\n",
    "        out = self.activation(self.fc[0](x))\n",
    "        out = self.fc[1](out)\n",
    "        out += x\n",
    "        out = self.activation(out)\n",
    "        return out\n",
    "    "
   ]
  },
  {
   "cell_type": "code",
   "execution_count": 30,
   "id": "ceedd1a5",
   "metadata": {},
   "outputs": [],
   "source": [
    "# Let't modify the LeNet by adding a skip connection at the first fc layer\n",
    "class LeNetRes(nn.Module):\n",
    "    def __init__(self, in_channels=1):\n",
    "        super().__init__()\n",
    "        self.conv = nn.ModuleList([\n",
    "            nn.Conv2d(in_channels, 6, kernel_size=5, stride=1),\n",
    "            nn.Conv2d(6, 16, kernel_size=5, stride=1),\n",
    "            nn.Conv2d(16, 120, kernel_size=5, stride=1)\n",
    "        ])\n",
    "        # Batch norm\n",
    "        self.bn1 = nn.ModuleList([nn.BatchNorm2d(6), nn.BatchNorm2d(16)])\n",
    "        self.pool = nn.AvgPool2d(kernel_size=2)\n",
    "        self.activation = nn.Tanh()\n",
    "        self.fc = nn.ModuleList([\n",
    "            nn.Linear(120, 120),\n",
    "            nn.Linear(120, 84),\n",
    "            nn.Linear(84, 10)\n",
    "        ])\n",
    "\n",
    "    def forward(self, x):\n",
    "        for i in range(2):\n",
    "            x = self.pool(self.activation(self.conv[i](x)))\n",
    "\n",
    "        x = nn.Flatten()(self.activation(self.conv[2](x)))\n",
    "        x = self.activation(x + self.fc[0](x))\n",
    "        x = self.activation(self.fc[1](x))\n",
    "        \n",
    "        x = nn.Softmax(dim=-1)(self.fc[1](x))\n",
    "        return x"
   ]
  },
  {
   "cell_type": "markdown",
   "id": "94a2c75c",
   "metadata": {},
   "source": [
    "## Batch Normalization (BN)\n",
    "\n",
    "For a 4-D input data $X$ with shape $(N,C,W,H)$. For each channel, the data is normalized by:\n",
    "\n",
    "$$\\hat{X}_{ijkl}=\\frac{X_{ijkl}-\\mathrm{mean}(X_j)}{\\sqrt{\\mathrm{var}(X_j)+\\epsilon}} * \\gamma_j + \\beta_j$$\n",
    "\n",
    "where\n",
    "\n",
    "$$\\mathrm{mean}(X_j)=\\frac{1}{NWH}\\sum_{i}^N\\sum_k^W\\sum_l^H X_{ikl}$$\n",
    "$$\\mathrm{var}(X_j)=\\frac{1}{NWH}\\sum_{i}^N\\sum_k^W\\sum_l^H (X_{ikl}-\\mathrm{mean}(X_j))^2$$\n",
    "\n",
    "$\\epsilon$ is a small number (say, $10^{-5}$) to avoid numerical instability. $\\boldsymbol{\\gamma, \\beta}$ are learnable parameters"
   ]
  },
  {
   "cell_type": "code",
   "execution_count": 31,
   "id": "166af6f6",
   "metadata": {
    "scrolled": true
   },
   "outputs": [],
   "source": [
    "batch_norm = nn.BatchNorm2d(120)\n"
   ]
  },
  {
   "cell_type": "code",
   "execution_count": null,
   "id": "5ee07cf0",
   "metadata": {},
   "outputs": [],
   "source": []
  }
 ],
 "metadata": {
  "kernelspec": {
   "display_name": "Python 3",
   "language": "python",
   "name": "python3"
  },
  "language_info": {
   "codemirror_mode": {
    "name": "ipython",
    "version": 3
   },
   "file_extension": ".py",
   "mimetype": "text/x-python",
   "name": "python",
   "nbconvert_exporter": "python",
   "pygments_lexer": "ipython3",
   "version": "3.12.1"
  }
 },
 "nbformat": 4,
 "nbformat_minor": 5
}
