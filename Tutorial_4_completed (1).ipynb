{
 "cells": [
  {
   "cell_type": "markdown",
   "id": "4301118a",
   "metadata": {},
   "source": [
    "# Tutorial 4 - PyTorch\n",
    "\n",
    "## Outline\n",
    "\n",
    "+ Installation & Introduction\n",
    "+ PyTorch Tensors and auto grads\n",
    "+ Building up neural network\n",
    "+ Optimizers\n"
   ]
  },
  {
   "cell_type": "markdown",
   "id": "8cb5ad25",
   "metadata": {},
   "source": [
    "## Installation & Introduction\n",
    "\n",
    "+ [Official Web site](https://pytorch.org/)\n",
    "\n",
    "+ [Installation](https://pytorch.org/get-started/locally/)\n",
    "\n",
    "\n",
    "PyTorch is an open-source machine learning library widely used for deep learning applications. Developed by Facebook's AI Research lab (FAIR), it provides a flexible and intuitive framework for building and training neural networks. PyTorch is known for its ease of use, computational efficiency, and dynamic computational graph, making it a favorite among researchers and developers for both academic and industrial applications.\n",
    "\n",
    "### Key Features of PyTorch\n",
    "\n",
    "+ **Dynamic Computational Graph**: PyTorch uses a dynamic computation graph (also known as a define-by-run paradigm), meaning the graph is built on the fly as operations are performed. This makes it more intuitive and flexible, allowing for easy changes and debugging.\n",
    "\n",
    "+ **Eager Execution**: Operations in PyTorch are executed eagerly, meaning they are computed immediately without waiting for a compiled graph of operations. This allows for more interactive and dynamic development.\n",
    "\n",
    "+ **Pythonic Nature**: PyTorch is deeply integrated with Python, making it easy to use and familiar to those with Python experience. It leverages Python’s features and libraries, allowing for seamless integration with the Python data science stack (e.g., NumPy, SciPy, Pandas).\n",
    "\n",
    "+ **Extensive Library Support**: PyTorch provides a wide range of libraries and tools for various tasks in deep learning, including computer vision (TorchVision), natural language processing (TorchText), and more. This ecosystem supports a vast array of algorithms, pre-trained models, and datasets to facilitate development and experimentation.\n",
    "\n",
    "+ **GPU Acceleration**: It supports CUDA, enabling it to leverage Nvidia GPUs for accelerated tensor computations. This makes training deep neural networks significantly faster compared to CPU-based training.\n",
    "\n",
    "+ **Community and Support**: PyTorch has a large and active community, contributing to a growing ecosystem of tools, libraries, and resources. It also enjoys robust support from major tech companies, ensuring continuous development and improvement."
   ]
  },
  {
   "cell_type": "markdown",
   "id": "c11b7859",
   "metadata": {},
   "source": [
    "## Tensors\n",
    "\n",
    "Tensors are data structure in PyTorch to manipulate data. It is very similar to numpy.ndarray, but with support for automatic differentiation and hardware acceleration (Nvidia GPU, Apple silicon)"
   ]
  },
  {
   "cell_type": "code",
   "execution_count": 1,
   "id": "c68836fa",
   "metadata": {},
   "outputs": [],
   "source": [
    "import torch"
   ]
  },
  {
   "cell_type": "code",
   "execution_count": 2,
   "id": "6252c2d7",
   "metadata": {
    "scrolled": false
   },
   "outputs": [
    {
     "name": "stdout",
     "output_type": "stream",
     "text": [
      "<class 'torch.Tensor'>\n"
     ]
    },
    {
     "data": {
      "text/plain": [
       "tensor([[1., 2.],\n",
       "        [3., 4.]])"
      ]
     },
     "execution_count": 2,
     "metadata": {},
     "output_type": "execute_result"
    }
   ],
   "source": [
    "a = torch.tensor([[1, 2], [3, 4]], dtype=torch.float)\n",
    "print(type(a))\n",
    "a"
   ]
  },
  {
   "cell_type": "markdown",
   "id": "c686bdf4",
   "metadata": {},
   "source": [
    "Bridge with NumPy"
   ]
  },
  {
   "cell_type": "code",
   "execution_count": 64,
   "id": "8ac73a8b",
   "metadata": {
    "scrolled": false
   },
   "outputs": [
    {
     "data": {
      "text/plain": [
       "tensor([[1., 2.],\n",
       "        [3., 4.]], dtype=torch.float64)"
      ]
     },
     "execution_count": 64,
     "metadata": {},
     "output_type": "execute_result"
    }
   ],
   "source": [
    "import numpy as np\n",
    "\n",
    "arr = np.array([[1., 2.], [3., 4.]])\n",
    "arr_torch = torch.from_numpy(arr)\n",
    "arr_torch"
   ]
  },
  {
   "cell_type": "code",
   "execution_count": 4,
   "id": "4a5632f2",
   "metadata": {},
   "outputs": [],
   "source": [
    "# detach() stops a tensor from tracking history in automatic differentiation\n",
    "arr_np = arr_torch.detach().numpy() "
   ]
  },
  {
   "cell_type": "markdown",
   "id": "681ea6f3",
   "metadata": {},
   "source": [
    "Generate random numbers"
   ]
  },
  {
   "cell_type": "code",
   "execution_count": 5,
   "id": "c95390c3",
   "metadata": {},
   "outputs": [
    {
     "data": {
      "text/plain": [
       "tensor([[-0.7879, -0.2330, -0.0982, -1.0348],\n",
       "        [ 0.0639,  0.8598,  2.7095,  1.2524],\n",
       "        [-0.7575,  0.9654, -0.3348, -0.7185],\n",
       "        [-1.2670,  0.4653, -0.5597,  1.0670]])"
      ]
     },
     "execution_count": 5,
     "metadata": {},
     "output_type": "execute_result"
    }
   ],
   "source": [
    "# normal distribution\n",
    "torch.randn(4, 4)"
   ]
  },
  {
   "cell_type": "code",
   "execution_count": 6,
   "id": "621b48c9",
   "metadata": {
    "scrolled": true
   },
   "outputs": [
    {
     "data": {
      "text/plain": [
       "tensor([[0.5604, 0.5394, 0.9632, 0.6035],\n",
       "        [0.8970, 0.5477, 0.7817, 0.7909],\n",
       "        [0.0512, 0.1679, 0.5124, 0.5346],\n",
       "        [0.5963, 0.3559, 0.9216, 0.7628]])"
      ]
     },
     "execution_count": 6,
     "metadata": {},
     "output_type": "execute_result"
    }
   ],
   "source": [
    "# uniform distribution\n",
    "torch.rand(4, 4)"
   ]
  },
  {
   "cell_type": "markdown",
   "id": "cc611ad0",
   "metadata": {},
   "source": [
    "Others"
   ]
  },
  {
   "cell_type": "code",
   "execution_count": 7,
   "id": "735fe059",
   "metadata": {},
   "outputs": [
    {
     "data": {
      "text/plain": [
       "tensor([0, 1, 2, 3, 4])"
      ]
     },
     "execution_count": 7,
     "metadata": {},
     "output_type": "execute_result"
    }
   ],
   "source": [
    "torch.arange(5)"
   ]
  },
  {
   "cell_type": "code",
   "execution_count": 8,
   "id": "eb73e7eb",
   "metadata": {},
   "outputs": [
    {
     "data": {
      "text/plain": [
       "tensor([-4.0000, -3.1111, -2.2222, -1.3333, -0.4444,  0.4444,  1.3333,  2.2222,\n",
       "         3.1111,  4.0000])"
      ]
     },
     "execution_count": 8,
     "metadata": {},
     "output_type": "execute_result"
    }
   ],
   "source": [
    "torch.linspace(-4, 4, 10)"
   ]
  },
  {
   "cell_type": "code",
   "execution_count": 9,
   "id": "a69784a9",
   "metadata": {},
   "outputs": [
    {
     "data": {
      "text/plain": [
       "tensor([1., 1., 1., 1., 1., 1.])"
      ]
     },
     "execution_count": 9,
     "metadata": {},
     "output_type": "execute_result"
    }
   ],
   "source": [
    "torch.ones(6)"
   ]
  },
  {
   "cell_type": "code",
   "execution_count": 10,
   "id": "251f9409",
   "metadata": {},
   "outputs": [
    {
     "data": {
      "text/plain": [
       "tensor([[0., 0.],\n",
       "        [0., 0.],\n",
       "        [0., 0.]])"
      ]
     },
     "execution_count": 10,
     "metadata": {},
     "output_type": "execute_result"
    }
   ],
   "source": [
    "torch.zeros(3, 2)"
   ]
  },
  {
   "cell_type": "markdown",
   "id": "4e00cd51",
   "metadata": {},
   "source": [
    "Attributes of tensors"
   ]
  },
  {
   "cell_type": "code",
   "execution_count": 11,
   "id": "7ab19db7",
   "metadata": {},
   "outputs": [
    {
     "name": "stdout",
     "output_type": "stream",
     "text": [
      "Shape of tensor: torch.Size([3, 4])\n",
      "Datatype of tensor: torch.float32\n",
      "Device tensor is stored on: cpu\n"
     ]
    }
   ],
   "source": [
    "tensor = torch.rand(3,4)\n",
    "\n",
    "print(f\"Shape of tensor: {tensor.shape}\")\n",
    "print(f\"Datatype of tensor: {tensor.dtype}\")\n",
    "print(f\"Device tensor is stored on: {tensor.device}\")"
   ]
  },
  {
   "cell_type": "markdown",
   "id": "4d20bbd3",
   "metadata": {},
   "source": [
    "Single-element tensor can use `.item()` method to get a Python float object"
   ]
  },
  {
   "cell_type": "code",
   "execution_count": 95,
   "id": "eb66fda1",
   "metadata": {},
   "outputs": [
    {
     "name": "stdout",
     "output_type": "stream",
     "text": [
      "<class 'float'>\n"
     ]
    }
   ],
   "source": [
    "a = torch.Tensor([4.])\n",
    "print(type(a.item()))"
   ]
  },
  {
   "cell_type": "markdown",
   "id": "0478cf7d",
   "metadata": {},
   "source": [
    "**PyTorch** can work on different hardwares"
   ]
  },
  {
   "cell_type": "code",
   "execution_count": 12,
   "id": "195a284f",
   "metadata": {},
   "outputs": [],
   "source": [
    "device = (\n",
    "    \"cuda\"\n",
    "    if torch.cuda.is_available()\n",
    "    else \"mps\"\n",
    "    if torch.backends.mps.is_available()\n",
    "    else \"cpu\"\n",
    ")\n",
    "\n",
    "# send the tensor to device\n",
    "tensor_device = tensor.to(device)\n",
    "\n",
    "# send the tensor back to cpu\n",
    "tensor_cpu = tensor.cpu()"
   ]
  },
  {
   "cell_type": "markdown",
   "id": "007743e3",
   "metadata": {},
   "source": [
    "### Autograd"
   ]
  },
  {
   "cell_type": "code",
   "execution_count": 13,
   "id": "47128446",
   "metadata": {},
   "outputs": [
    {
     "data": {
      "text/plain": [
       "tensor([[2., 4.],\n",
       "        [6., 8.]])"
      ]
     },
     "execution_count": 13,
     "metadata": {},
     "output_type": "execute_result"
    }
   ],
   "source": [
    "x = torch.tensor([[1, 2], [3, 4]], dtype=torch.float, requires_grad=True)\n",
    "y = torch.sum(x ** 2)\n",
    "y.backward()\n",
    "x.grad"
   ]
  },
  {
   "cell_type": "markdown",
   "id": "43ff51c2",
   "metadata": {},
   "source": [
    "## Build Neural Network with PyTorch"
   ]
  },
  {
   "cell_type": "code",
   "execution_count": 14,
   "id": "71a6dda9",
   "metadata": {},
   "outputs": [],
   "source": [
    "import torch.nn as nn"
   ]
  },
  {
   "cell_type": "markdown",
   "id": "f27848c3",
   "metadata": {},
   "source": [
    "### Activation Functions"
   ]
  },
  {
   "cell_type": "code",
   "execution_count": 15,
   "id": "1613157e",
   "metadata": {},
   "outputs": [
    {
     "name": "stdout",
     "output_type": "stream",
     "text": [
      "tensor([[-3.8831, -3.5977],\n",
      "        [-0.1765, -0.9821],\n",
      "        [-2.4004, -2.5256]])\n",
      "ReLU: tensor([[0., 0.],\n",
      "        [0., 0.],\n",
      "        [0., 0.]])\n",
      "Tanh: tensor([[-0.9992, -0.9985],\n",
      "        [-0.1747, -0.7540],\n",
      "        [-0.9837, -0.9873]])\n",
      "Sigmoid: tensor([[0.0202, 0.0267],\n",
      "        [0.4560, 0.2725],\n",
      "        [0.0831, 0.0741]])\n",
      "Softmax: tensor([[0.4291, 0.5709],\n",
      "        [0.6912, 0.3088],\n",
      "        [0.5313, 0.4687]])\n"
     ]
    }
   ],
   "source": [
    "tensor = 5 * (torch.rand(3, 2) * 2 - 1)\n",
    "print(tensor)\n",
    "\n",
    "# ReLU\n",
    "relu = nn.ReLU()\n",
    "print(\"ReLU:\", relu(tensor))\n",
    "\n",
    "# Tanh\n",
    "tanh = nn.Tanh()\n",
    "print(\"Tanh:\", tanh(tensor))\n",
    "\n",
    "# Sigmoid\n",
    "sigmoid = nn.Sigmoid()\n",
    "print(\"Sigmoid:\", sigmoid(tensor))\n",
    "\n",
    "# Softmax\n",
    "softmax = nn.Softmax(dim=1)\n",
    "print(\"Softmax:\", softmax(tensor))"
   ]
  },
  {
   "cell_type": "markdown",
   "id": "602d5ee0",
   "metadata": {},
   "source": [
    "### Loss functions"
   ]
  },
  {
   "cell_type": "code",
   "execution_count": 16,
   "id": "52c298a5",
   "metadata": {},
   "outputs": [
    {
     "name": "stdout",
     "output_type": "stream",
     "text": [
      "tensor(0.2663)\n",
      "tensor(0.5983)\n"
     ]
    }
   ],
   "source": [
    "# mse\n",
    "mse = nn.MSELoss()\n",
    "a, b = torch.rand(5, 2), torch.rand(5, 2)\n",
    "print(mse(a, b))\n",
    "\n",
    "# cross-entropy\n",
    "cross_entropy = nn.CrossEntropyLoss()\n",
    "a = torch.rand(10, 2)\n",
    "b = torch.randint(2, (10,))\n",
    "print(cross_entropy(a, b))"
   ]
  },
  {
   "cell_type": "markdown",
   "id": "f1f0c3c7",
   "metadata": {},
   "source": [
    "### Neural Network"
   ]
  },
  {
   "cell_type": "code",
   "execution_count": 81,
   "id": "40b98f6c",
   "metadata": {},
   "outputs": [
    {
     "data": {
      "text/plain": [
       "Net(\n",
       "  (layers): Sequential(\n",
       "    (0): Linear(in_features=13, out_features=3, bias=True)\n",
       "    (1): ReLU()\n",
       "    (2): Linear(in_features=3, out_features=3, bias=True)\n",
       "    (3): Softmax(dim=1)\n",
       "  )\n",
       ")"
      ]
     },
     "execution_count": 81,
     "metadata": {},
     "output_type": "execute_result"
    }
   ],
   "source": [
    "class Net(nn.Module):\n",
    "    def __init__(self):\n",
    "        super().__init__()\n",
    "        self.layers = nn.Sequential(\n",
    "            nn.Linear(13, 3),\n",
    "            nn.ReLU(),\n",
    "            nn.Linear(3, 3),\n",
    "            nn.Softmax(dim=1)\n",
    "        )\n",
    "    \n",
    "    def forward(self, X):\n",
    "        return self.layers(X)\n",
    "    \n",
    "\n",
    "model = Net()\n",
    "model"
   ]
  },
  {
   "cell_type": "code",
   "execution_count": 82,
   "id": "77966fa5",
   "metadata": {},
   "outputs": [
    {
     "name": "stdout",
     "output_type": "stream",
     "text": [
      "Layer: layers.0.weight | Size: torch.Size([3, 13]) | Values : tensor([[ 0.0743,  0.2055, -0.0763,  0.0349, -0.1844,  0.0049,  0.1216, -0.1394,\n",
      "         -0.2260, -0.0892, -0.0419, -0.0718,  0.0782],\n",
      "        [-0.0420, -0.1034, -0.2759,  0.0035,  0.1277, -0.0102, -0.0055,  0.0580,\n",
      "         -0.2649,  0.0219, -0.2439, -0.1629,  0.0296],\n",
      "        [ 0.1125, -0.1069, -0.2596, -0.2020,  0.1576, -0.0568,  0.2264,  0.1395,\n",
      "          0.1872, -0.2123, -0.0911,  0.1796, -0.2613]]) \n",
      "\n",
      "Layer: layers.0.bias | Size: torch.Size([3]) | Values : tensor([ 0.2464, -0.2696, -0.0119]) \n",
      "\n",
      "Layer: layers.2.weight | Size: torch.Size([3, 3]) | Values : tensor([[-0.4451,  0.3152,  0.0387],\n",
      "        [ 0.0320, -0.2368, -0.2466],\n",
      "        [ 0.3873, -0.2003,  0.4198]]) \n",
      "\n",
      "Layer: layers.2.bias | Size: torch.Size([3]) | Values : tensor([ 0.0696,  0.5506, -0.3752]) \n",
      "\n"
     ]
    }
   ],
   "source": [
    "for name, param in model.named_parameters():\n",
    "    print(f\"Layer: {name} | Size: {param.size()} | Values : {param.data} \\n\")"
   ]
  },
  {
   "cell_type": "code",
   "execution_count": 83,
   "id": "6bad3456",
   "metadata": {},
   "outputs": [
    {
     "name": "stdout",
     "output_type": "stream",
     "text": [
      "tensor([[0.3123, 0.4621, 0.2256],\n",
      "        [0.2744, 0.5052, 0.2204],\n",
      "        [0.3069, 0.4964, 0.1967]], grad_fn=<SoftmaxBackward0>)\n"
     ]
    }
   ],
   "source": [
    "X = torch.rand(3, 13)\n",
    "y = model(X)\n",
    "print(y)"
   ]
  },
  {
   "cell_type": "markdown",
   "id": "97485371",
   "metadata": {},
   "source": [
    "## Optimization"
   ]
  },
  {
   "cell_type": "code",
   "execution_count": 90,
   "id": "54ab88a4",
   "metadata": {},
   "outputs": [
    {
     "data": {
      "text/html": [
       "<div>\n",
       "<style scoped>\n",
       "    .dataframe tbody tr th:only-of-type {\n",
       "        vertical-align: middle;\n",
       "    }\n",
       "\n",
       "    .dataframe tbody tr th {\n",
       "        vertical-align: top;\n",
       "    }\n",
       "\n",
       "    .dataframe thead th {\n",
       "        text-align: right;\n",
       "    }\n",
       "</style>\n",
       "<table border=\"1\" class=\"dataframe\">\n",
       "  <thead>\n",
       "    <tr style=\"text-align: right;\">\n",
       "      <th></th>\n",
       "      <th>Alcohol %</th>\n",
       "      <th>Malic Acid</th>\n",
       "      <th>Ash</th>\n",
       "      <th>Alkalinity</th>\n",
       "      <th>Mg</th>\n",
       "      <th>Phenols</th>\n",
       "      <th>Flavanoids</th>\n",
       "      <th>Phenols.1</th>\n",
       "      <th>Proantho-cyanins</th>\n",
       "      <th>Color intensity</th>\n",
       "      <th>Hue</th>\n",
       "      <th>OD280 315</th>\n",
       "      <th>Proline</th>\n",
       "      <th>Start assignment</th>\n",
       "      <th>ranking</th>\n",
       "    </tr>\n",
       "  </thead>\n",
       "  <tbody>\n",
       "    <tr>\n",
       "      <th>0</th>\n",
       "      <td>14.23</td>\n",
       "      <td>1.71</td>\n",
       "      <td>2.43</td>\n",
       "      <td>15.6</td>\n",
       "      <td>127</td>\n",
       "      <td>2.8</td>\n",
       "      <td>3.06</td>\n",
       "      <td>0.28</td>\n",
       "      <td>2.29</td>\n",
       "      <td>5.64</td>\n",
       "      <td>1.04</td>\n",
       "      <td>3.92</td>\n",
       "      <td>1065</td>\n",
       "      <td>1</td>\n",
       "      <td>1</td>\n",
       "    </tr>\n",
       "    <tr>\n",
       "      <th>1</th>\n",
       "      <td>13.24</td>\n",
       "      <td>2.59</td>\n",
       "      <td>2.87</td>\n",
       "      <td>21.0</td>\n",
       "      <td>118</td>\n",
       "      <td>2.8</td>\n",
       "      <td>2.69</td>\n",
       "      <td>0.39</td>\n",
       "      <td>1.82</td>\n",
       "      <td>4.32</td>\n",
       "      <td>1.04</td>\n",
       "      <td>2.93</td>\n",
       "      <td>735</td>\n",
       "      <td>1</td>\n",
       "      <td>1</td>\n",
       "    </tr>\n",
       "    <tr>\n",
       "      <th>2</th>\n",
       "      <td>14.83</td>\n",
       "      <td>1.64</td>\n",
       "      <td>2.17</td>\n",
       "      <td>14.0</td>\n",
       "      <td>97</td>\n",
       "      <td>2.8</td>\n",
       "      <td>2.98</td>\n",
       "      <td>0.29</td>\n",
       "      <td>1.98</td>\n",
       "      <td>5.20</td>\n",
       "      <td>1.08</td>\n",
       "      <td>2.85</td>\n",
       "      <td>1045</td>\n",
       "      <td>1</td>\n",
       "      <td>1</td>\n",
       "    </tr>\n",
       "    <tr>\n",
       "      <th>3</th>\n",
       "      <td>14.12</td>\n",
       "      <td>1.48</td>\n",
       "      <td>2.32</td>\n",
       "      <td>16.8</td>\n",
       "      <td>95</td>\n",
       "      <td>2.2</td>\n",
       "      <td>2.43</td>\n",
       "      <td>0.26</td>\n",
       "      <td>1.57</td>\n",
       "      <td>5.00</td>\n",
       "      <td>1.17</td>\n",
       "      <td>2.82</td>\n",
       "      <td>1280</td>\n",
       "      <td>1</td>\n",
       "      <td>1</td>\n",
       "    </tr>\n",
       "    <tr>\n",
       "      <th>4</th>\n",
       "      <td>13.75</td>\n",
       "      <td>1.73</td>\n",
       "      <td>2.41</td>\n",
       "      <td>16.0</td>\n",
       "      <td>89</td>\n",
       "      <td>2.6</td>\n",
       "      <td>2.76</td>\n",
       "      <td>0.29</td>\n",
       "      <td>1.81</td>\n",
       "      <td>5.60</td>\n",
       "      <td>1.15</td>\n",
       "      <td>2.90</td>\n",
       "      <td>1320</td>\n",
       "      <td>1</td>\n",
       "      <td>1</td>\n",
       "    </tr>\n",
       "  </tbody>\n",
       "</table>\n",
       "</div>"
      ],
      "text/plain": [
       "   Alcohol %  Malic Acid   Ash  Alkalinity   Mg  Phenols  Flavanoids  \\\n",
       "0      14.23        1.71  2.43        15.6  127      2.8        3.06   \n",
       "1      13.24        2.59  2.87        21.0  118      2.8        2.69   \n",
       "2      14.83        1.64  2.17        14.0   97      2.8        2.98   \n",
       "3      14.12        1.48  2.32        16.8   95      2.2        2.43   \n",
       "4      13.75        1.73  2.41        16.0   89      2.6        2.76   \n",
       "\n",
       "   Phenols.1  Proantho-cyanins  Color intensity   Hue  OD280 315  Proline  \\\n",
       "0       0.28              2.29             5.64  1.04       3.92     1065   \n",
       "1       0.39              1.82             4.32  1.04       2.93      735   \n",
       "2       0.29              1.98             5.20  1.08       2.85     1045   \n",
       "3       0.26              1.57             5.00  1.17       2.82     1280   \n",
       "4       0.29              1.81             5.60  1.15       2.90     1320   \n",
       "\n",
       "   Start assignment  ranking  \n",
       "0                 1        1  \n",
       "1                 1        1  \n",
       "2                 1        1  \n",
       "3                 1        1  \n",
       "4                 1        1  "
      ]
     },
     "execution_count": 90,
     "metadata": {},
     "output_type": "execute_result"
    }
   ],
   "source": [
    "import pandas as pd\n",
    "from sklearn.preprocessing import StandardScaler\n",
    "from sklearn.model_selection import train_test_split\n",
    "\n",
    "df = pd.read_csv(\"../../Datasets/wines.csv\")\n",
    "df.head()"
   ]
  },
  {
   "cell_type": "code",
   "execution_count": 93,
   "id": "e92f8010",
   "metadata": {
    "scrolled": true
   },
   "outputs": [
    {
     "name": "stdout",
     "output_type": "stream",
     "text": [
      "0.6230356693267822\n",
      "0.6229644417762756\n",
      "0.6228887438774109\n",
      "0.6228083968162537\n",
      "0.6227228045463562\n",
      "0.6226339936256409\n",
      "0.6225464940071106\n",
      "0.6224617958068848\n",
      "0.622379720211029\n",
      "0.6222999095916748\n"
     ]
    }
   ],
   "source": [
    "features = df.drop(['Start assignment', 'ranking'], axis=1).values\n",
    "X = StandardScaler().fit_transform(features)\n",
    "X = torch.tensor(X, dtype=torch.float32)\n",
    "y = torch.tensor(df['ranking'].values - 1)\n",
    "\n",
    "X_train, X_test, y_train, y_test = train_test_split(X, y, test_size=0.2)\n",
    "\n",
    "# define loss\n",
    "loss_func = nn.CrossEntropyLoss()\n",
    "\n",
    "# define optimizer\n",
    "optimizer = torch.optim.Adam(model.parameters(), lr=1e-3)\n",
    "\n",
    "epochs = 10\n",
    "for _ in range(epochs):\n",
    "    y_pred = model(X_train)\n",
    "    loss = loss_func(y_pred, y_train)\n",
    "    optimizer.zero_grad()\n",
    "    loss.backward()\n",
    "    optimizer.step()\n",
    "    \n",
    "    with torch.no_grad():\n",
    "        test_loss = loss_func(model(X_test), y_test)\n",
    "        print(test_loss.item())"
   ]
  },
  {
   "cell_type": "code",
   "execution_count": null,
   "id": "bd8efb09",
   "metadata": {},
   "outputs": [],
   "source": []
  }
 ],
 "metadata": {
  "kernelspec": {
   "display_name": "c142",
   "language": "python",
   "name": "c142"
  },
  "language_info": {
   "codemirror_mode": {
    "name": "ipython",
    "version": 3
   },
   "file_extension": ".py",
   "mimetype": "text/x-python",
   "name": "python",
   "nbconvert_exporter": "python",
   "pygments_lexer": "ipython3",
   "version": "3.8.18"
  }
 },
 "nbformat": 4,
 "nbformat_minor": 5
}
